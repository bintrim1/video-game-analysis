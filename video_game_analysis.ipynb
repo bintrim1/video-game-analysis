{
 "cells": [
  {
   "cell_type": "markdown",
   "metadata": {},
   "source": [
    "# Integrated Project\n",
    "TripleTen Chapter 5: Integrated Project\n",
    "\n",
    "Project description\n",
    "\n",
    "You work for the online store Ice, which sells video games all over the world. User and expert reviews, genres, platforms (e.g. Xbox or PlayStation), and historical data on game sales are available from open sources. You need to identify patterns that determine whether a game succeeds or not. This will allow you to spot potential big winners and plan advertising campaigns.\n",
    "\n",
    "In front of you is data going back to 2016. Let’s imagine that it’s December 2016 and you’re planning a campaign for 2017. \n",
    "\n",
    "(The important thing is to get experience working with data. It doesn't really matter whether you're forecasting 2017 sales based on data from 2016 or 2027 sales based on data from 2026.)\n",
    "\n",
    "The dataset contains the abbreviation ESRB. The Entertainment Software Rating Board evaluates a game's content and assigns an age rating such as Teen or Mature.\n",
    "\n",
    "#### Data description\n",
    "\n",
    "—Name \n",
    "\n",
    "—Platform \n",
    "\n",
    "—Year_of_Release \n",
    "\n",
    "—Genre \n",
    "\n",
    "—NA_sales (North American sales in USD million) \n",
    "\n",
    "—EU_sales (sales in Europe in USD million) \n",
    "\n",
    "—JP_sales (sales in Japan in USD million) \n",
    "\n",
    "—Other_sales (sales in other countries in USD million) \n",
    "\n",
    "—Critic_Score (maximum of 100) \n",
    "\n",
    "—User_Score (maximum of 10) \n",
    "\n",
    "—Rating (ESRB)\n",
    "\n",
    "Data for 2016 may be incomplete.\n"
   ]
  },
  {
   "cell_type": "markdown",
   "metadata": {},
   "source": [
    "# Opening the dataset"
   ]
  },
  {
   "cell_type": "code",
   "execution_count": 1,
   "metadata": {},
   "outputs": [],
   "source": [
    "# importing our libraries we will use \n",
    "\n",
    "import pandas as pd\n",
    "import math\n",
    "from scipy import stats as st\n",
    "import numpy as np\n",
    "import seaborn as sns\n",
    "import matplotlib.pyplot as plt"
   ]
  },
  {
   "cell_type": "code",
   "execution_count": 2,
   "metadata": {},
   "outputs": [],
   "source": [
    "# setting default seaborn theme\n",
    "sns.set_theme()"
   ]
  },
  {
   "cell_type": "code",
   "execution_count": 3,
   "metadata": {},
   "outputs": [],
   "source": [
    "# reading in our dataset\n",
    "df = pd.read_csv(\"/datasets/games.csv\")"
   ]
  },
  {
   "cell_type": "code",
   "execution_count": 4,
   "metadata": {},
   "outputs": [
    {
     "data": {
      "text/html": [
       "<div>\n",
       "<style scoped>\n",
       "    .dataframe tbody tr th:only-of-type {\n",
       "        vertical-align: middle;\n",
       "    }\n",
       "\n",
       "    .dataframe tbody tr th {\n",
       "        vertical-align: top;\n",
       "    }\n",
       "\n",
       "    .dataframe thead th {\n",
       "        text-align: right;\n",
       "    }\n",
       "</style>\n",
       "<table border=\"1\" class=\"dataframe\">\n",
       "  <thead>\n",
       "    <tr style=\"text-align: right;\">\n",
       "      <th></th>\n",
       "      <th>Name</th>\n",
       "      <th>Platform</th>\n",
       "      <th>Year_of_Release</th>\n",
       "      <th>Genre</th>\n",
       "      <th>NA_sales</th>\n",
       "      <th>EU_sales</th>\n",
       "      <th>JP_sales</th>\n",
       "      <th>Other_sales</th>\n",
       "      <th>Critic_Score</th>\n",
       "      <th>User_Score</th>\n",
       "      <th>Rating</th>\n",
       "    </tr>\n",
       "  </thead>\n",
       "  <tbody>\n",
       "    <tr>\n",
       "      <th>0</th>\n",
       "      <td>Wii Sports</td>\n",
       "      <td>Wii</td>\n",
       "      <td>2006.0</td>\n",
       "      <td>Sports</td>\n",
       "      <td>41.36</td>\n",
       "      <td>28.96</td>\n",
       "      <td>3.77</td>\n",
       "      <td>8.45</td>\n",
       "      <td>76.0</td>\n",
       "      <td>8</td>\n",
       "      <td>E</td>\n",
       "    </tr>\n",
       "    <tr>\n",
       "      <th>1</th>\n",
       "      <td>Super Mario Bros.</td>\n",
       "      <td>NES</td>\n",
       "      <td>1985.0</td>\n",
       "      <td>Platform</td>\n",
       "      <td>29.08</td>\n",
       "      <td>3.58</td>\n",
       "      <td>6.81</td>\n",
       "      <td>0.77</td>\n",
       "      <td>NaN</td>\n",
       "      <td>NaN</td>\n",
       "      <td>NaN</td>\n",
       "    </tr>\n",
       "    <tr>\n",
       "      <th>2</th>\n",
       "      <td>Mario Kart Wii</td>\n",
       "      <td>Wii</td>\n",
       "      <td>2008.0</td>\n",
       "      <td>Racing</td>\n",
       "      <td>15.68</td>\n",
       "      <td>12.76</td>\n",
       "      <td>3.79</td>\n",
       "      <td>3.29</td>\n",
       "      <td>82.0</td>\n",
       "      <td>8.3</td>\n",
       "      <td>E</td>\n",
       "    </tr>\n",
       "    <tr>\n",
       "      <th>3</th>\n",
       "      <td>Wii Sports Resort</td>\n",
       "      <td>Wii</td>\n",
       "      <td>2009.0</td>\n",
       "      <td>Sports</td>\n",
       "      <td>15.61</td>\n",
       "      <td>10.93</td>\n",
       "      <td>3.28</td>\n",
       "      <td>2.95</td>\n",
       "      <td>80.0</td>\n",
       "      <td>8</td>\n",
       "      <td>E</td>\n",
       "    </tr>\n",
       "    <tr>\n",
       "      <th>4</th>\n",
       "      <td>Pokemon Red/Pokemon Blue</td>\n",
       "      <td>GB</td>\n",
       "      <td>1996.0</td>\n",
       "      <td>Role-Playing</td>\n",
       "      <td>11.27</td>\n",
       "      <td>8.89</td>\n",
       "      <td>10.22</td>\n",
       "      <td>1.00</td>\n",
       "      <td>NaN</td>\n",
       "      <td>NaN</td>\n",
       "      <td>NaN</td>\n",
       "    </tr>\n",
       "  </tbody>\n",
       "</table>\n",
       "</div>"
      ],
      "text/plain": [
       "                       Name Platform  Year_of_Release         Genre  NA_sales  \\\n",
       "0                Wii Sports      Wii           2006.0        Sports     41.36   \n",
       "1         Super Mario Bros.      NES           1985.0      Platform     29.08   \n",
       "2            Mario Kart Wii      Wii           2008.0        Racing     15.68   \n",
       "3         Wii Sports Resort      Wii           2009.0        Sports     15.61   \n",
       "4  Pokemon Red/Pokemon Blue       GB           1996.0  Role-Playing     11.27   \n",
       "\n",
       "   EU_sales  JP_sales  Other_sales  Critic_Score User_Score Rating  \n",
       "0     28.96      3.77         8.45          76.0          8      E  \n",
       "1      3.58      6.81         0.77           NaN        NaN    NaN  \n",
       "2     12.76      3.79         3.29          82.0        8.3      E  \n",
       "3     10.93      3.28         2.95          80.0          8      E  \n",
       "4      8.89     10.22         1.00           NaN        NaN    NaN  "
      ]
     },
     "metadata": {},
     "output_type": "display_data"
    },
    {
     "name": "stdout",
     "output_type": "stream",
     "text": [
      "\n",
      "\n",
      "<class 'pandas.core.frame.DataFrame'>\n",
      "RangeIndex: 16715 entries, 0 to 16714\n",
      "Data columns (total 11 columns):\n",
      " #   Column           Non-Null Count  Dtype  \n",
      "---  ------           --------------  -----  \n",
      " 0   Name             16713 non-null  object \n",
      " 1   Platform         16715 non-null  object \n",
      " 2   Year_of_Release  16446 non-null  float64\n",
      " 3   Genre            16713 non-null  object \n",
      " 4   NA_sales         16715 non-null  float64\n",
      " 5   EU_sales         16715 non-null  float64\n",
      " 6   JP_sales         16715 non-null  float64\n",
      " 7   Other_sales      16715 non-null  float64\n",
      " 8   Critic_Score     8137 non-null   float64\n",
      " 9   User_Score       10014 non-null  object \n",
      " 10  Rating           9949 non-null   object \n",
      "dtypes: float64(6), object(5)\n",
      "memory usage: 1.4+ MB\n"
     ]
    }
   ],
   "source": [
    "# taking an initial look at the dataset\n",
    "\n",
    "display(df.head())\n",
    "print()\n",
    "print()\n",
    "df.info()"
   ]
  },
  {
   "cell_type": "markdown",
   "metadata": {},
   "source": [
    "# Preparing the data"
   ]
  },
  {
   "cell_type": "markdown",
   "metadata": {},
   "source": [
    "**Changing column names to lower case for consistancy**"
   ]
  },
  {
   "cell_type": "code",
   "execution_count": 5,
   "metadata": {},
   "outputs": [
    {
     "data": {
      "text/html": [
       "<div>\n",
       "<style scoped>\n",
       "    .dataframe tbody tr th:only-of-type {\n",
       "        vertical-align: middle;\n",
       "    }\n",
       "\n",
       "    .dataframe tbody tr th {\n",
       "        vertical-align: top;\n",
       "    }\n",
       "\n",
       "    .dataframe thead th {\n",
       "        text-align: right;\n",
       "    }\n",
       "</style>\n",
       "<table border=\"1\" class=\"dataframe\">\n",
       "  <thead>\n",
       "    <tr style=\"text-align: right;\">\n",
       "      <th></th>\n",
       "      <th>name</th>\n",
       "      <th>platform</th>\n",
       "      <th>year_of_release</th>\n",
       "      <th>genre</th>\n",
       "      <th>na_sales</th>\n",
       "      <th>eu_sales</th>\n",
       "      <th>jp_sales</th>\n",
       "      <th>other_sales</th>\n",
       "      <th>critic_score</th>\n",
       "      <th>user_score</th>\n",
       "      <th>rating</th>\n",
       "    </tr>\n",
       "  </thead>\n",
       "  <tbody>\n",
       "    <tr>\n",
       "      <th>0</th>\n",
       "      <td>Wii Sports</td>\n",
       "      <td>Wii</td>\n",
       "      <td>2006.0</td>\n",
       "      <td>Sports</td>\n",
       "      <td>41.36</td>\n",
       "      <td>28.96</td>\n",
       "      <td>3.77</td>\n",
       "      <td>8.45</td>\n",
       "      <td>76.0</td>\n",
       "      <td>8</td>\n",
       "      <td>E</td>\n",
       "    </tr>\n",
       "    <tr>\n",
       "      <th>1</th>\n",
       "      <td>Super Mario Bros.</td>\n",
       "      <td>NES</td>\n",
       "      <td>1985.0</td>\n",
       "      <td>Platform</td>\n",
       "      <td>29.08</td>\n",
       "      <td>3.58</td>\n",
       "      <td>6.81</td>\n",
       "      <td>0.77</td>\n",
       "      <td>NaN</td>\n",
       "      <td>NaN</td>\n",
       "      <td>NaN</td>\n",
       "    </tr>\n",
       "    <tr>\n",
       "      <th>2</th>\n",
       "      <td>Mario Kart Wii</td>\n",
       "      <td>Wii</td>\n",
       "      <td>2008.0</td>\n",
       "      <td>Racing</td>\n",
       "      <td>15.68</td>\n",
       "      <td>12.76</td>\n",
       "      <td>3.79</td>\n",
       "      <td>3.29</td>\n",
       "      <td>82.0</td>\n",
       "      <td>8.3</td>\n",
       "      <td>E</td>\n",
       "    </tr>\n",
       "    <tr>\n",
       "      <th>3</th>\n",
       "      <td>Wii Sports Resort</td>\n",
       "      <td>Wii</td>\n",
       "      <td>2009.0</td>\n",
       "      <td>Sports</td>\n",
       "      <td>15.61</td>\n",
       "      <td>10.93</td>\n",
       "      <td>3.28</td>\n",
       "      <td>2.95</td>\n",
       "      <td>80.0</td>\n",
       "      <td>8</td>\n",
       "      <td>E</td>\n",
       "    </tr>\n",
       "    <tr>\n",
       "      <th>4</th>\n",
       "      <td>Pokemon Red/Pokemon Blue</td>\n",
       "      <td>GB</td>\n",
       "      <td>1996.0</td>\n",
       "      <td>Role-Playing</td>\n",
       "      <td>11.27</td>\n",
       "      <td>8.89</td>\n",
       "      <td>10.22</td>\n",
       "      <td>1.00</td>\n",
       "      <td>NaN</td>\n",
       "      <td>NaN</td>\n",
       "      <td>NaN</td>\n",
       "    </tr>\n",
       "  </tbody>\n",
       "</table>\n",
       "</div>"
      ],
      "text/plain": [
       "                       name platform  year_of_release         genre  na_sales  \\\n",
       "0                Wii Sports      Wii           2006.0        Sports     41.36   \n",
       "1         Super Mario Bros.      NES           1985.0      Platform     29.08   \n",
       "2            Mario Kart Wii      Wii           2008.0        Racing     15.68   \n",
       "3         Wii Sports Resort      Wii           2009.0        Sports     15.61   \n",
       "4  Pokemon Red/Pokemon Blue       GB           1996.0  Role-Playing     11.27   \n",
       "\n",
       "   eu_sales  jp_sales  other_sales  critic_score user_score rating  \n",
       "0     28.96      3.77         8.45          76.0          8      E  \n",
       "1      3.58      6.81         0.77           NaN        NaN    NaN  \n",
       "2     12.76      3.79         3.29          82.0        8.3      E  \n",
       "3     10.93      3.28         2.95          80.0          8      E  \n",
       "4      8.89     10.22         1.00           NaN        NaN    NaN  "
      ]
     },
     "metadata": {},
     "output_type": "display_data"
    }
   ],
   "source": [
    "df = df.rename(columns={\n",
    "    'Name': 'name',\n",
    "    'Platform': 'platform',\n",
    "    'Year_of_Release': 'year_of_release',\n",
    "    'Genre': 'genre',\n",
    "    'NA_sales': 'na_sales',\n",
    "    'EU_sales': 'eu_sales',\n",
    "    'JP_sales': 'jp_sales',\n",
    "    'Other_sales': 'other_sales',\n",
    "    'Critic_Score': 'critic_score',\n",
    "    'User_Score': 'user_score',\n",
    "    'Rating': 'rating'\n",
    "})\n",
    "\n",
    "display(df.head())"
   ]
  },
  {
   "cell_type": "markdown",
   "metadata": {},
   "source": [
    "**Missing values**"
   ]
  },
  {
   "cell_type": "code",
   "execution_count": 6,
   "metadata": {},
   "outputs": [
    {
     "name": "stdout",
     "output_type": "stream",
     "text": [
      "<class 'pandas.core.frame.DataFrame'>\n",
      "Int64Index: 16713 entries, 0 to 16714\n",
      "Data columns (total 11 columns):\n",
      " #   Column           Non-Null Count  Dtype  \n",
      "---  ------           --------------  -----  \n",
      " 0   name             16713 non-null  object \n",
      " 1   platform         16713 non-null  object \n",
      " 2   year_of_release  16444 non-null  float64\n",
      " 3   genre            16713 non-null  object \n",
      " 4   na_sales         16713 non-null  float64\n",
      " 5   eu_sales         16713 non-null  float64\n",
      " 6   jp_sales         16713 non-null  float64\n",
      " 7   other_sales      16713 non-null  float64\n",
      " 8   critic_score     8137 non-null   float64\n",
      " 9   user_score       10014 non-null  object \n",
      " 10  rating           9949 non-null   object \n",
      "dtypes: float64(6), object(5)\n",
      "memory usage: 1.5+ MB\n"
     ]
    }
   ],
   "source": [
    "# name\n",
    "\n",
    "# since we have two entries where the name is null, these will be better off removed, since we have no idea of knowing anything about this game\n",
    "# other than it's sales numbers\n",
    "\n",
    "# removing the rows where name is null\n",
    "df = df[~df['name'].isnull()]\n",
    "\n",
    "df.info()\n",
    "\n",
    "\n",
    "\n"
   ]
  },
  {
   "cell_type": "code",
   "execution_count": 7,
   "metadata": {},
   "outputs": [
    {
     "name": "stdout",
     "output_type": "stream",
     "text": [
      "[2006. 1985. 2008. 2009. 1996. 1989. 1984. 2005. 1999. 2007. 2010. 2013.\n",
      " 2004. 1990. 1988. 2002. 2001. 2011. 1998. 2015. 2012. 2014. 1992. 1997.\n",
      " 1993. 1994. 1982. 2016. 2003. 1986. 2000.   nan 1995. 1991. 1981. 1987.\n",
      " 1980. 1983.]\n",
      "\n",
      "                                    name platform  year_of_release  \\\n",
      "183                      Madden NFL 2004      PS2              NaN   \n",
      "377                     FIFA Soccer 2004      PS2              NaN   \n",
      "456           LEGO Batman: The Videogame      Wii              NaN   \n",
      "475           wwe Smackdown vs. Raw 2006      PS2              NaN   \n",
      "609                       Space Invaders     2600              NaN   \n",
      "...                                  ...      ...              ...   \n",
      "16373  PDC World Championship Darts 2008      PSP              NaN   \n",
      "16405                      Freaky Flyers       GC              NaN   \n",
      "16448                          Inversion       PC              NaN   \n",
      "16458        Hakuouki: Shinsengumi Kitan      PS3              NaN   \n",
      "16522                       Virtua Quest       GC              NaN   \n",
      "\n",
      "              genre  na_sales  eu_sales  jp_sales  other_sales  critic_score  \\\n",
      "183          Sports      4.26      0.26      0.01         0.71          94.0   \n",
      "377          Sports      0.59      2.36      0.04         0.51          84.0   \n",
      "456          Action      1.80      0.97      0.00         0.29          74.0   \n",
      "475        Fighting      1.57      1.02      0.00         0.41           NaN   \n",
      "609         Shooter      2.36      0.14      0.00         0.03           NaN   \n",
      "...             ...       ...       ...       ...          ...           ...   \n",
      "16373        Sports      0.01      0.00      0.00         0.00          43.0   \n",
      "16405        Racing      0.01      0.00      0.00         0.00          69.0   \n",
      "16448       Shooter      0.01      0.00      0.00         0.00          59.0   \n",
      "16458     Adventure      0.01      0.00      0.00         0.00           NaN   \n",
      "16522  Role-Playing      0.01      0.00      0.00         0.00          55.0   \n",
      "\n",
      "      user_score rating  \n",
      "183          8.5      E  \n",
      "377          6.4      E  \n",
      "456          7.9   E10+  \n",
      "475          NaN    NaN  \n",
      "609          NaN    NaN  \n",
      "...          ...    ...  \n",
      "16373        tbd   E10+  \n",
      "16405        6.5      T  \n",
      "16448        6.7      M  \n",
      "16458        NaN    NaN  \n",
      "16522        5.5      T  \n",
      "\n",
      "[269 rows x 11 columns]\n"
     ]
    }
   ],
   "source": [
    "# year_of_release\n",
    "\n",
    "print(df['year_of_release'].unique())\n",
    "\n",
    "# since nan is the only non-year value represented in unique(), we will want to see how many null values there are for year\n",
    "print()\n",
    "print(df[df['year_of_release'].isnull()])\n"
   ]
  },
  {
   "cell_type": "markdown",
   "metadata": {},
   "source": [
    "**Observations**\n",
    "\n",
    "We have 269 entries where year_of_release is null. That represents approximately 1.6% of records in the dataset. Having a missing year would make future analysis difficult, and I don't think using a mean/median year is good for data, since the video game industry changes so much year to year"
   ]
  },
  {
   "cell_type": "code",
   "execution_count": 8,
   "metadata": {},
   "outputs": [
    {
     "name": "stdout",
     "output_type": "stream",
     "text": [
      "<class 'pandas.core.frame.DataFrame'>\n",
      "Int64Index: 16444 entries, 0 to 16714\n",
      "Data columns (total 11 columns):\n",
      " #   Column           Non-Null Count  Dtype  \n",
      "---  ------           --------------  -----  \n",
      " 0   name             16444 non-null  object \n",
      " 1   platform         16444 non-null  object \n",
      " 2   year_of_release  16444 non-null  float64\n",
      " 3   genre            16444 non-null  object \n",
      " 4   na_sales         16444 non-null  float64\n",
      " 5   eu_sales         16444 non-null  float64\n",
      " 6   jp_sales         16444 non-null  float64\n",
      " 7   other_sales      16444 non-null  float64\n",
      " 8   critic_score     7983 non-null   float64\n",
      " 9   user_score       9839 non-null   object \n",
      " 10  rating           9768 non-null   object \n",
      "dtypes: float64(6), object(5)\n",
      "memory usage: 1.5+ MB\n"
     ]
    }
   ],
   "source": [
    "\n",
    "# we will instead remove the records where year_of_release is missing\n",
    "\n",
    "df = df[~df['year_of_release'].isnull()]\n",
    "\n",
    "df.info()"
   ]
  },
  {
   "cell_type": "code",
   "execution_count": 9,
   "metadata": {},
   "outputs": [
    {
     "name": "stdout",
     "output_type": "stream",
     "text": [
      "[76. nan 82. 80. 89. 58. 87. 91. 61. 97. 95. 77. 88. 83. 94. 93. 85. 86.\n",
      " 98. 96. 90. 84. 73. 74. 78. 92. 71. 72. 68. 62. 49. 67. 81. 66. 56. 79.\n",
      " 70. 59. 64. 75. 60. 63. 69. 50. 25. 42. 44. 55. 48. 57. 29. 47. 65. 54.\n",
      " 20. 53. 37. 38. 33. 52. 30. 32. 43. 45. 51. 40. 46. 39. 34. 41. 36. 31.\n",
      " 27. 35. 26. 19. 28. 23. 24. 21. 17. 13.]\n"
     ]
    }
   ],
   "source": [
    "# critic_score\n",
    "\n",
    "# looking at the critic_score values to make sure there's nothing strange there\n",
    "print(df['critic_score'].unique())\n",
    "\n",
    "# these all look good, and the data type is float already.\n",
    "# we can leave these as they are"
   ]
  },
  {
   "cell_type": "code",
   "execution_count": 10,
   "metadata": {},
   "outputs": [
    {
     "name": "stdout",
     "output_type": "stream",
     "text": [
      "['8' nan '8.3' '8.5' '6.6' '8.4' '8.6' '7.7' '6.3' '7.4' '8.2' '9' '7.9'\n",
      " '8.1' '8.7' '7.1' '3.4' '5.3' '4.8' '3.2' '8.9' '6.4' '7.8' '7.5' '2.6'\n",
      " '7.2' '9.2' '7' '7.3' '4.3' '7.6' '5.7' '5' '9.1' '6.5' 'tbd' '8.8' '6.9'\n",
      " '9.4' '6.8' '6.1' '6.7' '5.4' '4' '4.9' '4.5' '9.3' '6.2' '4.2' '6' '3.7'\n",
      " '4.1' '5.8' '5.6' '5.5' '4.4' '4.6' '5.9' '3.9' '3.1' '2.9' '5.2' '3.3'\n",
      " '4.7' '5.1' '3.5' '2.5' '1.9' '3' '2.7' '2.2' '2' '9.5' '2.1' '3.6' '2.8'\n",
      " '1.8' '3.8' '0' '1.6' '9.6' '2.4' '1.7' '1.1' '0.3' '1.5' '0.7' '1.2'\n",
      " '2.3' '0.5' '1.3' '0.2' '0.6' '1.4' '0.9' '1' '9.7']\n",
      "\n",
      "There are 2376 instances of \"tbd\" for user_score\n"
     ]
    }
   ],
   "source": [
    "# user_score\n",
    "\n",
    "# looking at the user_score values to make sure there's nothing strange there\n",
    "print(df['user_score'].unique())\n",
    "\n",
    "# we have a weird 'tbd' value that we need to check out and most likely remove \n",
    "\n",
    "count_user_score = df['user_score'].value_counts()['tbd']\n",
    "\n",
    "print()\n",
    "print(f'There are {count_user_score} instances of \"tbd\" for user_score')\n",
    "\n"
   ]
  },
  {
   "cell_type": "markdown",
   "metadata": {},
   "source": [
    "**Observations**\n",
    "\n",
    "We can't remove 2376 records from this data frame. Our next best option will be to change 'tbd' values to null so they are ignored during calculations"
   ]
  },
  {
   "cell_type": "code",
   "execution_count": 11,
   "metadata": {},
   "outputs": [
    {
     "name": "stdout",
     "output_type": "stream",
     "text": [
      "\n",
      "['8' nan '8.3' '8.5' '6.6' '8.4' '8.6' '7.7' '6.3' '7.4' '8.2' '9' '7.9'\n",
      " '8.1' '8.7' '7.1' '3.4' '5.3' '4.8' '3.2' '8.9' '6.4' '7.8' '7.5' '2.6'\n",
      " '7.2' '9.2' '7' '7.3' '4.3' '7.6' '5.7' '5' '9.1' '6.5' '8.8' '6.9' '9.4'\n",
      " '6.8' '6.1' '6.7' '5.4' '4' '4.9' '4.5' '9.3' '6.2' '4.2' '6' '3.7' '4.1'\n",
      " '5.8' '5.6' '5.5' '4.4' '4.6' '5.9' '3.9' '3.1' '2.9' '5.2' '3.3' '4.7'\n",
      " '5.1' '3.5' '2.5' '1.9' '3' '2.7' '2.2' '2' '9.5' '2.1' '3.6' '2.8' '1.8'\n",
      " '3.8' '0' '1.6' '9.6' '2.4' '1.7' '1.1' '0.3' '1.5' '0.7' '1.2' '2.3'\n",
      " '0.5' '1.3' '0.2' '0.6' '1.4' '0.9' '1' '9.7']\n"
     ]
    }
   ],
   "source": [
    "df['user_score'] = df['user_score'].replace('tbd', np.nan)\n",
    "\n",
    "print()\n",
    "\n",
    "print(df['user_score'].unique())\n",
    "\n"
   ]
  },
  {
   "cell_type": "code",
   "execution_count": 12,
   "metadata": {},
   "outputs": [
    {
     "name": "stdout",
     "output_type": "stream",
     "text": [
      "['E' nan 'M' 'T' 'E10+' 'K-A' 'AO' 'EC' 'RP']\n",
      "\n",
      "6676\n"
     ]
    }
   ],
   "source": [
    "# rating\n",
    "\n",
    "# checking unique values of rating\n",
    "print(df['rating'].unique())\n",
    "\n",
    "# how many nans are there?\n",
    "print()\n",
    "print(df['rating'].isnull().sum())\n",
    "\n",
    "# same case as above, we'll leave this alone, since we have 6676 records with null for rating, and the rest of the values are okay"
   ]
  },
  {
   "cell_type": "markdown",
   "metadata": {},
   "source": [
    "**Changing data types to appropriate types**"
   ]
  },
  {
   "cell_type": "code",
   "execution_count": 13,
   "metadata": {},
   "outputs": [
    {
     "name": "stdout",
     "output_type": "stream",
     "text": [
      "<class 'pandas.core.frame.DataFrame'>\n",
      "Int64Index: 16444 entries, 0 to 16714\n",
      "Data columns (total 11 columns):\n",
      " #   Column           Non-Null Count  Dtype  \n",
      "---  ------           --------------  -----  \n",
      " 0   name             16444 non-null  object \n",
      " 1   platform         16444 non-null  object \n",
      " 2   year_of_release  16444 non-null  float64\n",
      " 3   genre            16444 non-null  object \n",
      " 4   na_sales         16444 non-null  float64\n",
      " 5   eu_sales         16444 non-null  float64\n",
      " 6   jp_sales         16444 non-null  float64\n",
      " 7   other_sales      16444 non-null  float64\n",
      " 8   critic_score     7983 non-null   float64\n",
      " 9   user_score       7463 non-null   object \n",
      " 10  rating           9768 non-null   object \n",
      "dtypes: float64(6), object(5)\n",
      "memory usage: 1.5+ MB\n"
     ]
    }
   ],
   "source": [
    "# fresh list of the df columns\n",
    "df.info()"
   ]
  },
  {
   "cell_type": "code",
   "execution_count": 14,
   "metadata": {},
   "outputs": [
    {
     "name": "stdout",
     "output_type": "stream",
     "text": [
      "<class 'pandas.core.frame.DataFrame'>\n",
      "Int64Index: 16444 entries, 0 to 16714\n",
      "Data columns (total 11 columns):\n",
      " #   Column           Non-Null Count  Dtype  \n",
      "---  ------           --------------  -----  \n",
      " 0   name             16444 non-null  object \n",
      " 1   platform         16444 non-null  object \n",
      " 2   year_of_release  16444 non-null  float64\n",
      " 3   genre            16444 non-null  object \n",
      " 4   na_sales         16444 non-null  float64\n",
      " 5   eu_sales         16444 non-null  float64\n",
      " 6   jp_sales         16444 non-null  float64\n",
      " 7   other_sales      16444 non-null  float64\n",
      " 8   critic_score     7983 non-null   float64\n",
      " 9   user_score       7463 non-null   float64\n",
      " 10  rating           9768 non-null   object \n",
      "dtypes: float64(7), object(4)\n",
      "memory usage: 1.5+ MB\n"
     ]
    }
   ],
   "source": [
    "# user_score needs to be turned into a float\n",
    "\n",
    "df['user_score'] = pd.to_numeric(df['user_score'])\n",
    "\n",
    "df.info()"
   ]
  },
  {
   "cell_type": "code",
   "execution_count": 15,
   "metadata": {},
   "outputs": [
    {
     "name": "stdout",
     "output_type": "stream",
     "text": [
      "[2006. 1985. 2008. 2009. 1996. 1989. 1984. 2005. 1999. 2007. 2010. 2013.\n",
      " 2004. 1990. 1988. 2002. 2001. 2011. 1998. 2015. 2012. 2014. 1992. 1997.\n",
      " 1993. 1994. 1982. 2016. 2003. 1986. 2000. 1995. 1991. 1981. 1987. 1980.\n",
      " 1983.]\n",
      "<class 'pandas.core.frame.DataFrame'>\n",
      "Int64Index: 16444 entries, 0 to 16714\n",
      "Data columns (total 11 columns):\n",
      " #   Column           Non-Null Count  Dtype  \n",
      "---  ------           --------------  -----  \n",
      " 0   name             16444 non-null  object \n",
      " 1   platform         16444 non-null  object \n",
      " 2   year_of_release  16444 non-null  int64  \n",
      " 3   genre            16444 non-null  object \n",
      " 4   na_sales         16444 non-null  float64\n",
      " 5   eu_sales         16444 non-null  float64\n",
      " 6   jp_sales         16444 non-null  float64\n",
      " 7   other_sales      16444 non-null  float64\n",
      " 8   critic_score     7983 non-null   float64\n",
      " 9   user_score       7463 non-null   float64\n",
      " 10  rating           9768 non-null   object \n",
      "dtypes: float64(6), int64(1), object(4)\n",
      "memory usage: 1.5+ MB\n"
     ]
    },
    {
     "data": {
      "text/html": [
       "<div>\n",
       "<style scoped>\n",
       "    .dataframe tbody tr th:only-of-type {\n",
       "        vertical-align: middle;\n",
       "    }\n",
       "\n",
       "    .dataframe tbody tr th {\n",
       "        vertical-align: top;\n",
       "    }\n",
       "\n",
       "    .dataframe thead th {\n",
       "        text-align: right;\n",
       "    }\n",
       "</style>\n",
       "<table border=\"1\" class=\"dataframe\">\n",
       "  <thead>\n",
       "    <tr style=\"text-align: right;\">\n",
       "      <th></th>\n",
       "      <th>name</th>\n",
       "      <th>platform</th>\n",
       "      <th>year_of_release</th>\n",
       "      <th>genre</th>\n",
       "      <th>na_sales</th>\n",
       "      <th>eu_sales</th>\n",
       "      <th>jp_sales</th>\n",
       "      <th>other_sales</th>\n",
       "      <th>critic_score</th>\n",
       "      <th>user_score</th>\n",
       "      <th>rating</th>\n",
       "    </tr>\n",
       "  </thead>\n",
       "  <tbody>\n",
       "    <tr>\n",
       "      <th>0</th>\n",
       "      <td>Wii Sports</td>\n",
       "      <td>Wii</td>\n",
       "      <td>2006</td>\n",
       "      <td>Sports</td>\n",
       "      <td>41.36</td>\n",
       "      <td>28.96</td>\n",
       "      <td>3.77</td>\n",
       "      <td>8.45</td>\n",
       "      <td>76.0</td>\n",
       "      <td>8.0</td>\n",
       "      <td>E</td>\n",
       "    </tr>\n",
       "    <tr>\n",
       "      <th>1</th>\n",
       "      <td>Super Mario Bros.</td>\n",
       "      <td>NES</td>\n",
       "      <td>1985</td>\n",
       "      <td>Platform</td>\n",
       "      <td>29.08</td>\n",
       "      <td>3.58</td>\n",
       "      <td>6.81</td>\n",
       "      <td>0.77</td>\n",
       "      <td>NaN</td>\n",
       "      <td>NaN</td>\n",
       "      <td>NaN</td>\n",
       "    </tr>\n",
       "    <tr>\n",
       "      <th>2</th>\n",
       "      <td>Mario Kart Wii</td>\n",
       "      <td>Wii</td>\n",
       "      <td>2008</td>\n",
       "      <td>Racing</td>\n",
       "      <td>15.68</td>\n",
       "      <td>12.76</td>\n",
       "      <td>3.79</td>\n",
       "      <td>3.29</td>\n",
       "      <td>82.0</td>\n",
       "      <td>8.3</td>\n",
       "      <td>E</td>\n",
       "    </tr>\n",
       "    <tr>\n",
       "      <th>3</th>\n",
       "      <td>Wii Sports Resort</td>\n",
       "      <td>Wii</td>\n",
       "      <td>2009</td>\n",
       "      <td>Sports</td>\n",
       "      <td>15.61</td>\n",
       "      <td>10.93</td>\n",
       "      <td>3.28</td>\n",
       "      <td>2.95</td>\n",
       "      <td>80.0</td>\n",
       "      <td>8.0</td>\n",
       "      <td>E</td>\n",
       "    </tr>\n",
       "    <tr>\n",
       "      <th>4</th>\n",
       "      <td>Pokemon Red/Pokemon Blue</td>\n",
       "      <td>GB</td>\n",
       "      <td>1996</td>\n",
       "      <td>Role-Playing</td>\n",
       "      <td>11.27</td>\n",
       "      <td>8.89</td>\n",
       "      <td>10.22</td>\n",
       "      <td>1.00</td>\n",
       "      <td>NaN</td>\n",
       "      <td>NaN</td>\n",
       "      <td>NaN</td>\n",
       "    </tr>\n",
       "  </tbody>\n",
       "</table>\n",
       "</div>"
      ],
      "text/plain": [
       "                       name platform  year_of_release         genre  na_sales  \\\n",
       "0                Wii Sports      Wii             2006        Sports     41.36   \n",
       "1         Super Mario Bros.      NES             1985      Platform     29.08   \n",
       "2            Mario Kart Wii      Wii             2008        Racing     15.68   \n",
       "3         Wii Sports Resort      Wii             2009        Sports     15.61   \n",
       "4  Pokemon Red/Pokemon Blue       GB             1996  Role-Playing     11.27   \n",
       "\n",
       "   eu_sales  jp_sales  other_sales  critic_score  user_score rating  \n",
       "0     28.96      3.77         8.45          76.0         8.0      E  \n",
       "1      3.58      6.81         0.77           NaN         NaN    NaN  \n",
       "2     12.76      3.79         3.29          82.0         8.3      E  \n",
       "3     10.93      3.28         2.95          80.0         8.0      E  \n",
       "4      8.89     10.22         1.00           NaN         NaN    NaN  "
      ]
     },
     "execution_count": 15,
     "metadata": {},
     "output_type": "execute_result"
    }
   ],
   "source": [
    "# let's make \"year_of_release\" an int instead of float\n",
    "\n",
    "print(df['year_of_release'].unique())\n",
    "\n",
    "df['year_of_release'] = df['year_of_release'].astype(\"int\")\n",
    "\n",
    "df.info()\n",
    "\n",
    "df.head()"
   ]
  },
  {
   "cell_type": "markdown",
   "metadata": {},
   "source": [
    "**Observations**\n",
    "\n",
    "We removed null values where we could, either removing entire rows where appropriate, or changing values to a standard nan missing value to exlude them from calculations in the future. \n",
    "\n",
    "We changed 'user_score' to a float64 using `pd.to_numeric()` because it was an object before, and we would not have been able to use any mathematical functions on that data"
   ]
  },
  {
   "cell_type": "code",
   "execution_count": 16,
   "metadata": {},
   "outputs": [
    {
     "data": {
      "text/html": [
       "<div>\n",
       "<style scoped>\n",
       "    .dataframe tbody tr th:only-of-type {\n",
       "        vertical-align: middle;\n",
       "    }\n",
       "\n",
       "    .dataframe tbody tr th {\n",
       "        vertical-align: top;\n",
       "    }\n",
       "\n",
       "    .dataframe thead th {\n",
       "        text-align: right;\n",
       "    }\n",
       "</style>\n",
       "<table border=\"1\" class=\"dataframe\">\n",
       "  <thead>\n",
       "    <tr style=\"text-align: right;\">\n",
       "      <th></th>\n",
       "      <th>name</th>\n",
       "      <th>platform</th>\n",
       "      <th>year_of_release</th>\n",
       "      <th>genre</th>\n",
       "      <th>na_sales</th>\n",
       "      <th>eu_sales</th>\n",
       "      <th>jp_sales</th>\n",
       "      <th>other_sales</th>\n",
       "      <th>critic_score</th>\n",
       "      <th>user_score</th>\n",
       "      <th>rating</th>\n",
       "      <th>total_sales</th>\n",
       "    </tr>\n",
       "  </thead>\n",
       "  <tbody>\n",
       "    <tr>\n",
       "      <th>0</th>\n",
       "      <td>Wii Sports</td>\n",
       "      <td>Wii</td>\n",
       "      <td>2006</td>\n",
       "      <td>Sports</td>\n",
       "      <td>41.36</td>\n",
       "      <td>28.96</td>\n",
       "      <td>3.77</td>\n",
       "      <td>8.45</td>\n",
       "      <td>76.0</td>\n",
       "      <td>8.0</td>\n",
       "      <td>E</td>\n",
       "      <td>82.54</td>\n",
       "    </tr>\n",
       "    <tr>\n",
       "      <th>1</th>\n",
       "      <td>Super Mario Bros.</td>\n",
       "      <td>NES</td>\n",
       "      <td>1985</td>\n",
       "      <td>Platform</td>\n",
       "      <td>29.08</td>\n",
       "      <td>3.58</td>\n",
       "      <td>6.81</td>\n",
       "      <td>0.77</td>\n",
       "      <td>NaN</td>\n",
       "      <td>NaN</td>\n",
       "      <td>NaN</td>\n",
       "      <td>40.24</td>\n",
       "    </tr>\n",
       "    <tr>\n",
       "      <th>2</th>\n",
       "      <td>Mario Kart Wii</td>\n",
       "      <td>Wii</td>\n",
       "      <td>2008</td>\n",
       "      <td>Racing</td>\n",
       "      <td>15.68</td>\n",
       "      <td>12.76</td>\n",
       "      <td>3.79</td>\n",
       "      <td>3.29</td>\n",
       "      <td>82.0</td>\n",
       "      <td>8.3</td>\n",
       "      <td>E</td>\n",
       "      <td>35.52</td>\n",
       "    </tr>\n",
       "    <tr>\n",
       "      <th>3</th>\n",
       "      <td>Wii Sports Resort</td>\n",
       "      <td>Wii</td>\n",
       "      <td>2009</td>\n",
       "      <td>Sports</td>\n",
       "      <td>15.61</td>\n",
       "      <td>10.93</td>\n",
       "      <td>3.28</td>\n",
       "      <td>2.95</td>\n",
       "      <td>80.0</td>\n",
       "      <td>8.0</td>\n",
       "      <td>E</td>\n",
       "      <td>32.77</td>\n",
       "    </tr>\n",
       "    <tr>\n",
       "      <th>4</th>\n",
       "      <td>Pokemon Red/Pokemon Blue</td>\n",
       "      <td>GB</td>\n",
       "      <td>1996</td>\n",
       "      <td>Role-Playing</td>\n",
       "      <td>11.27</td>\n",
       "      <td>8.89</td>\n",
       "      <td>10.22</td>\n",
       "      <td>1.00</td>\n",
       "      <td>NaN</td>\n",
       "      <td>NaN</td>\n",
       "      <td>NaN</td>\n",
       "      <td>31.38</td>\n",
       "    </tr>\n",
       "  </tbody>\n",
       "</table>\n",
       "</div>"
      ],
      "text/plain": [
       "                       name platform  year_of_release         genre  na_sales  \\\n",
       "0                Wii Sports      Wii             2006        Sports     41.36   \n",
       "1         Super Mario Bros.      NES             1985      Platform     29.08   \n",
       "2            Mario Kart Wii      Wii             2008        Racing     15.68   \n",
       "3         Wii Sports Resort      Wii             2009        Sports     15.61   \n",
       "4  Pokemon Red/Pokemon Blue       GB             1996  Role-Playing     11.27   \n",
       "\n",
       "   eu_sales  jp_sales  other_sales  critic_score  user_score rating  \\\n",
       "0     28.96      3.77         8.45          76.0         8.0      E   \n",
       "1      3.58      6.81         0.77           NaN         NaN    NaN   \n",
       "2     12.76      3.79         3.29          82.0         8.3      E   \n",
       "3     10.93      3.28         2.95          80.0         8.0      E   \n",
       "4      8.89     10.22         1.00           NaN         NaN    NaN   \n",
       "\n",
       "   total_sales  \n",
       "0        82.54  \n",
       "1        40.24  \n",
       "2        35.52  \n",
       "3        32.77  \n",
       "4        31.38  "
      ]
     },
     "metadata": {},
     "output_type": "display_data"
    }
   ],
   "source": [
    "# calculating total sales\n",
    "\n",
    "df['total_sales'] = df['na_sales'] + df['eu_sales'] + df['jp_sales'] + df['other_sales']\n",
    "\n",
    "display(df.head())"
   ]
  },
  {
   "cell_type": "markdown",
   "metadata": {},
   "source": [
    "**Observations**\n",
    "\n",
    "It is always important as a first step to clean up your dataset to remove null values where appropriate, make sure your data types make sense, and add any aggregated columns that you think would be helpful for future analysis. \n",
    "\n",
    "Now that these steps have been completed, we have a much more robust dataset that we can use for analyis below."
   ]
  },
  {
   "cell_type": "markdown",
   "metadata": {},
   "source": [
    "# Analyzing the data"
   ]
  },
  {
   "cell_type": "markdown",
   "metadata": {},
   "source": [
    "**Analyzing by release year**"
   ]
  },
  {
   "cell_type": "code",
   "execution_count": 17,
   "metadata": {},
   "outputs": [
    {
     "name": "stdout",
     "output_type": "stream",
     "text": [
      "2008    1427\n",
      "2009    1426\n",
      "2010    1255\n",
      "2007    1197\n",
      "2011    1136\n",
      "2006    1006\n",
      "2005     939\n",
      "2002     829\n",
      "2003     775\n",
      "2004     762\n",
      "2012     653\n",
      "2015     606\n",
      "2014     581\n",
      "2013     544\n",
      "2016     502\n",
      "2001     482\n",
      "1998     379\n",
      "2000     350\n",
      "1999     338\n",
      "1997     289\n",
      "1996     263\n",
      "1995     219\n",
      "1994     121\n",
      "1993      60\n",
      "1981      46\n",
      "1992      43\n",
      "1991      41\n",
      "1982      36\n",
      "1986      21\n",
      "1983      17\n",
      "1989      17\n",
      "1990      16\n",
      "1987      16\n",
      "1988      15\n",
      "1985      14\n",
      "1984      14\n",
      "1980       9\n",
      "Name: year_of_release, dtype: int64\n"
     ]
    }
   ],
   "source": [
    "# let's look at how many releases per year there are first\n",
    "\n",
    "print(df['year_of_release'].value_counts())"
   ]
  },
  {
   "cell_type": "markdown",
   "metadata": {},
   "source": [
    "We have a good idea of what years have a significant amount of games released. We will put them into some broader categories next, so we can have an idea of releases by time periods."
   ]
  },
  {
   "cell_type": "code",
   "execution_count": 18,
   "metadata": {},
   "outputs": [
    {
     "name": "stdout",
     "output_type": "stream",
     "text": [
      "Min year: 1980 | Max year: 2016\n"
     ]
    }
   ],
   "source": [
    "# let's add a new column for a \"release period\", a range of years that each game released under. This will help us aggregate the data better\n",
    "\n",
    "# we'll first need to get the min and max values of 'year_of_release'\n",
    "min_year, max_year = df['year_of_release'].min(), df['year_of_release'].max()\n",
    "\n",
    "print(f'Min year: {min_year} | Max year: {max_year}')"
   ]
  },
  {
   "cell_type": "code",
   "execution_count": 19,
   "metadata": {},
   "outputs": [],
   "source": [
    "# we have our range year. We'll go ahead and create some categories for each 5 years\n",
    "# we'll create a function to then apply to the df to create a new column\n",
    "\n",
    "def release_window(year):\n",
    "    if year <= 1984:\n",
    "        window = '1980-1984'\n",
    "    elif year >= 1985 and year < 1990:\n",
    "        window = '1985-1989'\n",
    "    elif year >= 1990 and year < 1995:\n",
    "        window = '1990-1994'\n",
    "    elif year >= 1995 and year < 2000:\n",
    "        window = '1995-1999'\n",
    "    elif year >= 2000 and year < 2005:\n",
    "        window = '2000-2004'\n",
    "    elif year >= 2005 and year < 2010:\n",
    "        window = '2005-2009'\n",
    "    elif year >= 2010 and year < 2015:\n",
    "        window = '2010-2014'\n",
    "    else:\n",
    "        window = '2015+'\n",
    "\n",
    "    return window\n"
   ]
  },
  {
   "cell_type": "code",
   "execution_count": 20,
   "metadata": {},
   "outputs": [
    {
     "name": "stdout",
     "output_type": "stream",
     "text": [
      "                       name platform  year_of_release         genre  na_sales  \\\n",
      "0                Wii Sports      Wii             2006        Sports     41.36   \n",
      "1         Super Mario Bros.      NES             1985      Platform     29.08   \n",
      "2            Mario Kart Wii      Wii             2008        Racing     15.68   \n",
      "3         Wii Sports Resort      Wii             2009        Sports     15.61   \n",
      "4  Pokemon Red/Pokemon Blue       GB             1996  Role-Playing     11.27   \n",
      "\n",
      "   eu_sales  jp_sales  other_sales  critic_score  user_score rating  \\\n",
      "0     28.96      3.77         8.45          76.0         8.0      E   \n",
      "1      3.58      6.81         0.77           NaN         NaN    NaN   \n",
      "2     12.76      3.79         3.29          82.0         8.3      E   \n",
      "3     10.93      3.28         2.95          80.0         8.0      E   \n",
      "4      8.89     10.22         1.00           NaN         NaN    NaN   \n",
      "\n",
      "   total_sales release_window  \n",
      "0        82.54      2005-2009  \n",
      "1        40.24      1985-1989  \n",
      "2        35.52      2005-2009  \n",
      "3        32.77      2005-2009  \n",
      "4        31.38      1995-1999  \n"
     ]
    }
   ],
   "source": [
    "# we'll apply our new function to create a new column called 'release_window'\n",
    "df['release_window'] = df['year_of_release'].apply(release_window)\n",
    "\n",
    "print(df.head())"
   ]
  },
  {
   "cell_type": "code",
   "execution_count": 21,
   "metadata": {},
   "outputs": [
    {
     "name": "stdout",
     "output_type": "stream",
     "text": [
      "       index  release_window\n",
      "0  2005-2009            5995\n",
      "1  2010-2014            4169\n",
      "2  2000-2004            3198\n",
      "3  1995-1999            1488\n",
      "4      2015+            1108\n",
      "5  1990-1994             281\n",
      "6  1980-1984             122\n",
      "7  1985-1989              83\n"
     ]
    }
   ],
   "source": [
    "release_window_counts = df['release_window'].value_counts().to_frame().reset_index()\n",
    "\n",
    "print(release_window_counts)"
   ]
  },
  {
   "cell_type": "markdown",
   "metadata": {},
   "source": [
    "The significant years we'll probably want to focus on would be 2000 and up, leaving anything below 2000 behind. "
   ]
  },
  {
   "cell_type": "code",
   "execution_count": 22,
   "metadata": {},
   "outputs": [
    {
     "name": "stdout",
     "output_type": "stream",
     "text": [
      "<class 'pandas.core.frame.DataFrame'>\n",
      "Int64Index: 14470 entries, 0 to 16714\n",
      "Data columns (total 13 columns):\n",
      " #   Column           Non-Null Count  Dtype  \n",
      "---  ------           --------------  -----  \n",
      " 0   name             14470 non-null  object \n",
      " 1   platform         14470 non-null  object \n",
      " 2   year_of_release  14470 non-null  int64  \n",
      " 3   genre            14470 non-null  object \n",
      " 4   na_sales         14470 non-null  float64\n",
      " 5   eu_sales         14470 non-null  float64\n",
      " 6   jp_sales         14470 non-null  float64\n",
      " 7   other_sales      14470 non-null  float64\n",
      " 8   critic_score     7887 non-null   float64\n",
      " 9   user_score       7371 non-null   float64\n",
      " 10  rating           9663 non-null   object \n",
      " 11  total_sales      14470 non-null  float64\n",
      " 12  release_window   14470 non-null  object \n",
      "dtypes: float64(7), int64(1), object(5)\n",
      "memory usage: 1.5+ MB\n"
     ]
    }
   ],
   "source": [
    "# let's filter our main df and remove anything that was released before the year 2000\n",
    "\n",
    "df = df.query('year_of_release >= 2000')\n",
    "\n",
    "df.info()"
   ]
  },
  {
   "cell_type": "code",
   "execution_count": 23,
   "metadata": {},
   "outputs": [
    {
     "data": {
      "image/png": "[encoded data removed]",
      "text/plain": [
       "<Figure size 432x288 with 1 Axes>"
      ]
     },
     "metadata": {},
     "output_type": "display_data"
    }
   ],
   "source": [
    "# distribution of game releases per year\n",
    "sns.histplot(data=df, x='year_of_release')\n",
    "\n",
    "plt.title('Video Game Releases per Year')\n",
    "plt.ylabel('Releases')\n",
    "plt.xlabel('Year')\n",
    "plt.show()"
   ]
  },
  {
   "cell_type": "markdown",
   "metadata": {},
   "source": [
    "**Platform Sales**"
   ]
  },
  {
   "cell_type": "code",
   "execution_count": 24,
   "metadata": {},
   "outputs": [
    {
     "name": "stdout",
     "output_type": "stream",
     "text": [
      "   platform  total_sales\n",
      "9       PS2      1233.56\n",
      "17     X360       961.24\n",
      "10      PS3       931.34\n",
      "15      Wii       891.18\n",
      "2        DS       802.76\n",
      "11      PS4       314.14\n",
      "4       GBA       312.88\n",
      "12      PSP       289.53\n",
      "0       3DS       257.81\n",
      "18       XB       251.57\n"
     ]
    }
   ],
   "source": [
    "# creating a new dataframe grouping each platform by the sum of its total sales\n",
    "sales_platform = df.groupby('platform')['total_sales'].sum().to_frame().reset_index()\n",
    "\n",
    "print(sales_platform.sort_values(by='total_sales', ascending=False).head(10))"
   ]
  },
  {
   "cell_type": "code",
   "execution_count": 25,
   "metadata": {},
   "outputs": [
    {
     "name": "stdout",
     "output_type": "stream",
     "text": [
      "                    name platform  year_of_release     genre  na_sales  \\\n",
      "0             Wii Sports      Wii             2006    Sports     41.36   \n",
      "2         Mario Kart Wii      Wii             2008    Racing     15.68   \n",
      "3      Wii Sports Resort      Wii             2009    Sports     15.61   \n",
      "6  New Super Mario Bros.       DS             2006  Platform     11.28   \n",
      "7               Wii Play      Wii             2006      Misc     13.96   \n",
      "\n",
      "   eu_sales  jp_sales  other_sales  critic_score  user_score rating  \\\n",
      "0     28.96      3.77         8.45          76.0         8.0      E   \n",
      "2     12.76      3.79         3.29          82.0         8.3      E   \n",
      "3     10.93      3.28         2.95          80.0         8.0      E   \n",
      "6      9.14      6.50         2.88          89.0         8.5      E   \n",
      "7      9.18      2.93         2.84          58.0         6.6      E   \n",
      "\n",
      "   total_sales release_window  \n",
      "0        82.54      2005-2009  \n",
      "2        35.52      2005-2009  \n",
      "3        32.77      2005-2009  \n",
      "6        29.80      2005-2009  \n",
      "7        28.91      2005-2009  \n"
     ]
    }
   ],
   "source": [
    "# let's take a look at a distribution of the top 5 platforms by year\n",
    "\n",
    "# we'll take the top 5 platforms by total sales and filter the original df by those platforms\n",
    "\n",
    "mask = ('PS2', 'X360', 'PS3', 'Wii', 'DS')\n",
    "\n",
    "df_filtered_1 = df[df['platform'].isin(mask)]\n",
    "\n",
    "print(df_filtered_1.head())"
   ]
  },
  {
   "cell_type": "code",
   "execution_count": 26,
   "metadata": {},
   "outputs": [
    {
     "name": "stdout",
     "output_type": "stream",
     "text": [
      "   platform  year_of_release  total_sales\n",
      "0        DS             2004        17.27\n",
      "1        DS             2005       130.14\n",
      "2        DS             2006       119.81\n",
      "3        DS             2007       146.94\n",
      "4        DS             2008       145.31\n",
      "5        DS             2009       119.54\n",
      "6        DS             2010        85.02\n",
      "7        DS             2011        26.18\n",
      "8        DS             2012        11.01\n",
      "9        DS             2013         1.54\n",
      "10      PS2             2000        39.17\n",
      "11      PS2             2001       166.43\n",
      "12      PS2             2002       205.38\n",
      "13      PS2             2003       184.31\n",
      "14      PS2             2004       211.81\n",
      "15      PS2             2005       160.66\n",
      "16      PS2             2006       103.42\n",
      "17      PS2             2007        75.99\n",
      "18      PS2             2008        53.90\n",
      "19      PS2             2009        26.40\n",
      "20      PS2             2010         5.64\n",
      "21      PS2             2011         0.45\n",
      "22      PS3             2006        20.96\n",
      "23      PS3             2007        73.19\n",
      "24      PS3             2008       118.52\n",
      "25      PS3             2009       130.93\n",
      "26      PS3             2010       142.17\n",
      "27      PS3             2011       156.78\n",
      "28      PS3             2012       107.36\n",
      "29      PS3             2013       113.25\n",
      "30      PS3             2014        47.76\n",
      "31      PS3             2015        16.82\n",
      "32      PS3             2016         3.60\n",
      "33      Wii             2006       137.15\n",
      "34      Wii             2007       152.77\n",
      "35      Wii             2008       171.32\n",
      "36      Wii             2009       206.97\n",
      "37      Wii             2010       127.95\n",
      "38      Wii             2011        59.65\n",
      "39      Wii             2012        21.71\n",
      "40      Wii             2013         8.59\n",
      "41      Wii             2014         3.75\n",
      "42      Wii             2015         1.14\n",
      "43      Wii             2016         0.18\n",
      "44     X360             2005         8.25\n",
      "45     X360             2006        51.62\n",
      "46     X360             2007        95.41\n",
      "47     X360             2008       135.26\n",
      "48     X360             2009       120.29\n",
      "49     X360             2010       170.03\n",
      "50     X360             2011       143.84\n",
      "51     X360             2012        99.74\n",
      "52     X360             2013        88.58\n",
      "53     X360             2014        34.74\n",
      "54     X360             2015        11.96\n",
      "55     X360             2016         1.52\n"
     ]
    }
   ],
   "source": [
    "df_top_platform_sales = df_filtered_1.groupby(['platform', 'year_of_release'])['total_sales'].sum().to_frame().reset_index()\n",
    "\n",
    "print(df_top_platform_sales)\n"
   ]
  },
  {
   "cell_type": "code",
   "execution_count": 27,
   "metadata": {},
   "outputs": [
    {
     "data": {
      "image/png": "[encoded data removed]",
      "text/plain": [
       "<Figure size 1029.3x360 with 1 Axes>"
      ]
     },
     "metadata": {},
     "output_type": "display_data"
    }
   ],
   "source": [
    "# now that we have the dataframe of platform, year and total sales\n",
    "# we can create a distribution\n",
    "\n",
    "\n",
    "\n",
    "sns.catplot(\n",
    "    data=df_top_platform_sales,\n",
    "    kind=\"bar\",\n",
    "    x=\"year_of_release\",\n",
    "    y=\"total_sales\",\n",
    "    hue=\"platform\",\n",
    "    height=5,\n",
    "    aspect=2.67\n",
    ")\n",
    "\n",
    "plt.title(\"Total Sales by Platform, per Year\")\n",
    "plt.ylabel(\"Total sales(million, USD)\")\n",
    "plt.xlabel(\"Year (Platform)\")\n",
    "\n",
    "\n",
    "\n",
    "plt.show()"
   ]
  },
  {
   "cell_type": "markdown",
   "metadata": {},
   "source": [
    "**Observations**\n",
    "In addition to seeing the sales by platform, per year, this chart also helps us see the rise and fall of different platforms. \n",
    "\n",
    "For example, we can see PS2 surge to popularity from 2000-2004, and then watch it begin to decline over the next 4 or so years, until it's obscure after 2010. \n",
    "\n",
    "Looking at the top 5 platforms by sales, we can discern the following timeframe visually:\n",
    "\n",
    "* PS2: 2000-2010\n",
    "* DS: 2004-2012\n",
    "* X360: 2005-2015\n",
    "* PS3: 2006-2016\n",
    "* Wii: 2006-2013\n"
   ]
  },
  {
   "cell_type": "markdown",
   "metadata": {},
   "source": [
    "If we want to look at building a dataset for future modeling, we'll want to change our approach and look at the platforms that are currently popular in the most recent years of the data"
   ]
  },
  {
   "cell_type": "code",
   "execution_count": 28,
   "metadata": {},
   "outputs": [
    {
     "name": "stdout",
     "output_type": "stream",
     "text": [
      "                                            name platform  year_of_release  \\\n",
      "31                     Call of Duty: Black Ops 3      PS4             2015   \n",
      "42                            Grand Theft Auto V      PS4             2014   \n",
      "47     Pokemon Omega Ruby/Pokemon Alpha Sapphire      3DS             2014   \n",
      "77                                       FIFA 16      PS4             2015   \n",
      "87                  Star Wars Battlefront (2015)      PS4             2015   \n",
      "...                                          ...      ...              ...   \n",
      "16703                           Strawberry Nauts      PSV             2016   \n",
      "16707                           Aiyoku no Eustia      PSV             2014   \n",
      "16710              Samurai Warriors: Sanada Maru      PS3             2016   \n",
      "16712                    Haitaka no Psychedelica      PSV             2016   \n",
      "16714                        Winning Post 8 2016      PSV             2016   \n",
      "\n",
      "              genre  na_sales  eu_sales  jp_sales  other_sales  critic_score  \\\n",
      "31          Shooter      6.03      5.86      0.36         2.38           NaN   \n",
      "42           Action      3.96      6.31      0.38         1.97          97.0   \n",
      "47     Role-Playing      4.35      3.49      3.10         0.74           NaN   \n",
      "77           Sports      1.12      6.12      0.06         1.28          82.0   \n",
      "87          Shooter      2.99      3.49      0.22         1.28           NaN   \n",
      "...             ...       ...       ...       ...          ...           ...   \n",
      "16703     Adventure      0.00      0.00      0.01         0.00           NaN   \n",
      "16707          Misc      0.00      0.00      0.01         0.00           NaN   \n",
      "16710        Action      0.00      0.00      0.01         0.00           NaN   \n",
      "16712     Adventure      0.00      0.00      0.01         0.00           NaN   \n",
      "16714    Simulation      0.00      0.00      0.01         0.00           NaN   \n",
      "\n",
      "       user_score rating  total_sales release_window  \n",
      "31            NaN    NaN        14.63          2015+  \n",
      "42            8.3      M        12.62      2010-2014  \n",
      "47            NaN    NaN        11.68      2010-2014  \n",
      "77            4.3      E         8.58          2015+  \n",
      "87            NaN    NaN         7.98          2015+  \n",
      "...           ...    ...          ...            ...  \n",
      "16703         NaN    NaN         0.01          2015+  \n",
      "16707         NaN    NaN         0.01      2010-2014  \n",
      "16710         NaN    NaN         0.01          2015+  \n",
      "16712         NaN    NaN         0.01          2015+  \n",
      "16714         NaN    NaN         0.01          2015+  \n",
      "\n",
      "[1689 rows x 13 columns]\n"
     ]
    }
   ],
   "source": [
    "# we'll take the most recent 3 years of data, from 2014-2016\n",
    "\n",
    "df = df.query('year_of_release >= 2014')\n",
    "\n",
    "print(df)"
   ]
  },
  {
   "cell_type": "markdown",
   "metadata": {},
   "source": [
    "Now we'll redo the analysis above and find out the top platforms of our new filtered dataset\\\n",
    "This will help us determine trends for future modeling\n"
   ]
  },
  {
   "cell_type": "code",
   "execution_count": 29,
   "metadata": {},
   "outputs": [
    {
     "name": "stdout",
     "output_type": "stream",
     "text": [
      "  platform  total_sales\n",
      "3      PS4       288.15\n",
      "9     XOne       140.36\n",
      "0      3DS        86.68\n",
      "2      PS3        68.18\n",
      "8     X360        48.22\n",
      "7     WiiU        42.98\n",
      "1       PC        27.05\n",
      "5      PSV        22.40\n",
      "6      Wii         5.07\n",
      "4      PSP         0.36\n"
     ]
    }
   ],
   "source": [
    "sales_platform_recent = df.groupby('platform')['total_sales'].sum().to_frame().reset_index()\n",
    "\n",
    "print(sales_platform_recent.sort_values(by='total_sales', ascending=False).head(10))"
   ]
  },
  {
   "cell_type": "markdown",
   "metadata": {},
   "source": [
    "Before we make any conclusions about the top platforms, we'll want to plot this like above, to see any trends in sales rising or falling\\\n",
    "Let's also put PC in here, even though it's not top 5, because it's always a consistent platform"
   ]
  },
  {
   "cell_type": "code",
   "execution_count": 30,
   "metadata": {},
   "outputs": [
    {
     "name": "stdout",
     "output_type": "stream",
     "text": [
      "                                         name platform  year_of_release  \\\n",
      "31                  Call of Duty: Black Ops 3      PS4             2015   \n",
      "42                         Grand Theft Auto V      PS4             2014   \n",
      "47  Pokemon Omega Ruby/Pokemon Alpha Sapphire      3DS             2014   \n",
      "77                                    FIFA 16      PS4             2015   \n",
      "87               Star Wars Battlefront (2015)      PS4             2015   \n",
      "\n",
      "           genre  na_sales  eu_sales  jp_sales  other_sales  critic_score  \\\n",
      "31       Shooter      6.03      5.86      0.36         2.38           NaN   \n",
      "42        Action      3.96      6.31      0.38         1.97          97.0   \n",
      "47  Role-Playing      4.35      3.49      3.10         0.74           NaN   \n",
      "77        Sports      1.12      6.12      0.06         1.28          82.0   \n",
      "87       Shooter      2.99      3.49      0.22         1.28           NaN   \n",
      "\n",
      "    user_score rating  total_sales release_window  \n",
      "31         NaN    NaN        14.63          2015+  \n",
      "42         8.3      M        12.62      2010-2014  \n",
      "47         NaN    NaN        11.68      2010-2014  \n",
      "77         4.3      E         8.58          2015+  \n",
      "87         NaN    NaN         7.98          2015+  \n"
     ]
    }
   ],
   "source": [
    "mask2 = ('PS4', 'XOne', '3DS', 'PS3', 'X360', 'PC')\n",
    "\n",
    "df_filtered_2 = df[df['platform'].isin(mask2)]\n",
    "\n",
    "print(df_filtered_2.head())"
   ]
  },
  {
   "cell_type": "code",
   "execution_count": 31,
   "metadata": {},
   "outputs": [
    {
     "name": "stdout",
     "output_type": "stream",
     "text": [
      "   platform  year_of_release  total_sales\n",
      "0       3DS             2014        43.76\n",
      "1       3DS             2015        27.78\n",
      "2       3DS             2016        15.14\n",
      "3        PC             2014        13.28\n",
      "4        PC             2015         8.52\n",
      "5        PC             2016         5.25\n",
      "6       PS3             2014        47.76\n",
      "7       PS3             2015        16.82\n",
      "8       PS3             2016         3.60\n",
      "9       PS4             2014       100.00\n",
      "10      PS4             2015       118.90\n",
      "11      PS4             2016        69.25\n",
      "12     X360             2014        34.74\n",
      "13     X360             2015        11.96\n",
      "14     X360             2016         1.52\n",
      "15     XOne             2014        54.07\n",
      "16     XOne             2015        60.14\n",
      "17     XOne             2016        26.15\n"
     ]
    }
   ],
   "source": [
    "df_top_platform_sales_recent = df_filtered_2.groupby(['platform', 'year_of_release'])['total_sales'].sum().to_frame().reset_index()\n",
    "\n",
    "print(df_top_platform_sales_recent)\n"
   ]
  },
  {
   "cell_type": "code",
   "execution_count": 32,
   "metadata": {},
   "outputs": [
    {
     "data": {
      "image/png": "[encoded data removed]",
      "text/plain": [
       "<Figure size 1030.05x360 with 1 Axes>"
      ]
     },
     "metadata": {},
     "output_type": "display_data"
    }
   ],
   "source": [
    "sns.catplot(\n",
    "    data=df_top_platform_sales_recent,\n",
    "    kind=\"bar\",\n",
    "    x=\"year_of_release\",\n",
    "    y=\"total_sales\",\n",
    "    hue=\"platform\",\n",
    "    height=5,\n",
    "    aspect=2.67\n",
    ")\n",
    "\n",
    "plt.title(\"Total Sales by Platform, per Year\")\n",
    "plt.ylabel(\"Total sales(million, USD)\")\n",
    "plt.xlabel(\"Year (Platform)\")\n",
    "\n",
    "\n",
    "\n",
    "plt.show()"
   ]
  },
  {
   "cell_type": "markdown",
   "metadata": {},
   "source": [
    "**Observations**\n",
    "\n",
    "We can see in our new dataset, the newer consoles like the PS4 and the XOne are soaring up, while the previous front-runners like the X360 and PS3 are starting to fall behind. \n",
    "\n",
    "The 3DS was pretty popular too, but it's beginning to taper off, and looks like it will be quite low in 2017, so we won't consider it. \n",
    "\n",
    "PC, while not a huge seller, remains somewhat consistent. Based on the tapering sales of all platforms in 2016, and knowing that the next-gen consoles were still a few years out, I am thinking we may have an incomplete dataset for 2016 data. I will make an educated guess that if we did have complete 2016 data, XOne, PS4 and PC would be higher, so we are going to focus on *those 3 platforms going forward.*"
   ]
  },
  {
   "cell_type": "markdown",
   "metadata": {},
   "source": [
    "Now that we have selected our 3 platforms for further analysis, we'll want to create a new dataframe filtered by those platforms only so we can get an idea of the distribution of sales."
   ]
  },
  {
   "cell_type": "code",
   "execution_count": 33,
   "metadata": {},
   "outputs": [
    {
     "name": "stdout",
     "output_type": "stream",
     "text": [
      "                                                name platform  \\\n",
      "31                         Call of Duty: Black Ops 3      PS4   \n",
      "42                                Grand Theft Auto V      PS4   \n",
      "77                                           FIFA 16      PS4   \n",
      "87                      Star Wars Battlefront (2015)      PS4   \n",
      "92                    Call of Duty: Advanced Warfare      PS4   \n",
      "...                                              ...      ...   \n",
      "16643                              Rugby Challenge 3     XOne   \n",
      "16645                                         ZombiU     XOne   \n",
      "16660                               Prison Architect     XOne   \n",
      "16672  Metal Gear Solid V: The Definitive Experience     XOne   \n",
      "16692              Metal Gear Solid V: Ground Zeroes       PC   \n",
      "\n",
      "       year_of_release    genre  na_sales  eu_sales  jp_sales  other_sales  \\\n",
      "31                2015  Shooter      6.03      5.86      0.36         2.38   \n",
      "42                2014   Action      3.96      6.31      0.38         1.97   \n",
      "77                2015   Sports      1.12      6.12      0.06         1.28   \n",
      "87                2015  Shooter      2.99      3.49      0.22         1.28   \n",
      "92                2014  Shooter      2.81      3.48      0.14         1.23   \n",
      "...                ...      ...       ...       ...       ...          ...   \n",
      "16643             2016   Sports      0.00      0.01      0.00         0.00   \n",
      "16645             2016   Action      0.00      0.01      0.00         0.00   \n",
      "16660             2016   Action      0.01      0.00      0.00         0.00   \n",
      "16672             2016   Action      0.01      0.00      0.00         0.00   \n",
      "16692             2014   Action      0.00      0.01      0.00         0.00   \n",
      "\n",
      "       critic_score  user_score rating  total_sales release_window  \n",
      "31              NaN         NaN    NaN        14.63          2015+  \n",
      "42             97.0         8.3      M        12.62      2010-2014  \n",
      "77             82.0         4.3      E         8.58          2015+  \n",
      "87              NaN         NaN    NaN         7.98          2015+  \n",
      "92             83.0         5.7      M         7.66      2010-2014  \n",
      "...             ...         ...    ...          ...            ...  \n",
      "16643           NaN         6.6      E         0.01          2015+  \n",
      "16645           NaN         NaN    NaN         0.01          2015+  \n",
      "16660          74.0         6.7    NaN         0.01          2015+  \n",
      "16672           NaN         NaN      M         0.01          2015+  \n",
      "16692          80.0         7.6      M         0.01      2010-2014  \n",
      "\n",
      "[755 rows x 13 columns]\n"
     ]
    }
   ],
   "source": [
    "# we are going to create a new dataframe, so we can keep all data in-tact if we need it for future analyses. \n",
    "\n",
    "mask3 = ('PS4', 'XOne', 'PC')\n",
    "df_profitable_platforms = df[df['platform'].isin(mask3)]\n",
    "\n",
    "print(df_profitable_platforms)"
   ]
  },
  {
   "cell_type": "code",
   "execution_count": 34,
   "metadata": {},
   "outputs": [
    {
     "data": {
      "image/png": "[encoded data removed]",
      "text/plain": [
       "<Figure size 1080x360 with 1 Axes>"
      ]
     },
     "metadata": {},
     "output_type": "display_data"
    }
   ],
   "source": [
    "# now that we have our dataframe set up, we can visualize the distribution of sales using a boxplot\n",
    "\n",
    "sns.catplot(\n",
    "    data=df_profitable_platforms,\n",
    "    x=\"total_sales\",\n",
    "    y=\"platform\",\n",
    "    kind=\"box\",\n",
    "    height=5,\n",
    "    aspect=3\n",
    ")\n",
    "plt.xlabel(\"Total Sales (millions, USD)\")\n",
    "plt.xscale(\"log\")\n",
    "plt.title(\"Total Sales by Platform\")\n",
    "plt.show()"
   ]
  },
  {
   "cell_type": "markdown",
   "metadata": {},
   "source": []
  },
  {
   "cell_type": "code",
   "execution_count": 35,
   "metadata": {},
   "outputs": [
    {
     "name": "stdout",
     "output_type": "stream",
     "text": [
      "Average total_sales value of PS4 titles: 0.7663563829787233\n",
      "Average total_sales value of XOne titles: 0.6156140350877193\n",
      "Average total_sales value of PC titles: 0.17913907284768213\n"
     ]
    }
   ],
   "source": [
    "# Let's look at the average total_sales value for each platform above\n",
    "\n",
    "avg_ps4 = df_profitable_platforms.query(\"platform == 'PS4'\")['total_sales'].mean()\n",
    "avg_xone = df_profitable_platforms.query(\"platform == 'XOne'\")['total_sales'].mean()\n",
    "avg_pc = df_profitable_platforms.query(\"platform == 'PC'\")['total_sales'].mean()\n",
    "\n",
    "print('Average total_sales value of PS4 titles:', avg_ps4)\n",
    "print('Average total_sales value of XOne titles:', avg_xone)\n",
    "print('Average total_sales value of PC titles:', avg_pc)"
   ]
  },
  {
   "cell_type": "markdown",
   "metadata": {},
   "source": [
    "**Observations**\n",
    "\n",
    "PS4 and XOne sales are relatively similar across the board. XOne has a higher median of total sales per game, while PS4 has more high outliers.\n",
    "\n",
    "PC is behind them, both in range and median total sales, which is expected based on the analysis above. \n",
    "\n",
    "PS4 has higher average sales, followed by XOne, with PC significantly lower behind them."
   ]
  },
  {
   "cell_type": "code",
   "execution_count": 36,
   "metadata": {},
   "outputs": [],
   "source": [
    "# We'll look next at the correlation between user reviews and total sales, for the PS4 platform\n",
    "\n",
    "ps4_review_sales = df.query(\"platform == 'PS4'\")"
   ]
  },
  {
   "cell_type": "code",
   "execution_count": 37,
   "metadata": {},
   "outputs": [
    {
     "data": {
      "image/png": "[encoded data removed]",
      "text/plain": [
       "<Figure size 432x288 with 1 Axes>"
      ]
     },
     "metadata": {},
     "output_type": "display_data"
    }
   ],
   "source": [
    "sns.scatterplot(\n",
    "    data=ps4_review_sales,\n",
    "    x=\"user_score\",\n",
    "    y=\"total_sales\",\n",
    ")\n",
    "\n",
    "plt.title('PS4 Titles User Score vs Total Sales')\n",
    "plt.ylabel('Total Sales (millions, USD)')\n",
    "plt.show()"
   ]
  },
  {
   "cell_type": "code",
   "execution_count": 38,
   "metadata": {},
   "outputs": [],
   "source": [
    "d = {'user_score': ps4_review_sales['user_score'], 'total_sales': ps4_review_sales['total_sales']}\n",
    "ps4_correlation = pd.DataFrame(data=d)"
   ]
  },
  {
   "cell_type": "code",
   "execution_count": 39,
   "metadata": {},
   "outputs": [
    {
     "name": "stdout",
     "output_type": "stream",
     "text": [
      "             user_score  total_sales\n",
      "user_score     1.000000    -0.040132\n",
      "total_sales   -0.040132     1.000000\n"
     ]
    }
   ],
   "source": [
    "ps4_coefficient = ps4_correlation.corr(method='pearson')\n",
    "\n",
    "print(ps4_coefficient)"
   ]
  },
  {
   "cell_type": "markdown",
   "metadata": {},
   "source": [
    "**Observations**\n",
    "\n",
    "Looking at the correlation coefficient between user_score and total_sales for PS4 titles, we are showing a very slight negative coefficient, which tells us the two variables will tend to move in opposite directions -- as user_scores drop, total_sales will increase. \n",
    "\n",
    "Technically speaking, that is true for negative coefficients, but with one so low of -0.04, we are very close to no correlation at all, meaning that user reviews do not have any impact on total_sales of a title."
   ]
  },
  {
   "cell_type": "markdown",
   "metadata": {},
   "source": [
    "Now that we have selected our 3 platforms for further analysis, we'll want to create a new dataframe filtered by those platforms only so we can get an idea of the distribution of sales."
   ]
  },
  {
   "cell_type": "code",
   "execution_count": 40,
   "metadata": {},
   "outputs": [],
   "source": [
    "xone_review_sales = df.query(\"platform == 'XOne'\")\n"
   ]
  },
  {
   "cell_type": "code",
   "execution_count": 41,
   "metadata": {},
   "outputs": [
    {
     "data": {
      "image/png": "[encoded data removed]",
      "text/plain": [
       "<Figure size 432x288 with 1 Axes>"
      ]
     },
     "metadata": {},
     "output_type": "display_data"
    }
   ],
   "source": [
    "sns.scatterplot(\n",
    "    data=xone_review_sales,\n",
    "    x=\"user_score\",\n",
    "    y=\"total_sales\"\n",
    ")\n",
    "\n",
    "plt.title('XOne Titles User Score vs Total Sales')\n",
    "plt.ylabel('Total Sales (millions, USD)')\n",
    "plt.show()"
   ]
  },
  {
   "cell_type": "code",
   "execution_count": 42,
   "metadata": {},
   "outputs": [],
   "source": [
    "e = {'user_score': xone_review_sales['user_score'], 'total_sales': xone_review_sales['total_sales']}\n",
    "xone_correlation = pd.DataFrame(data=e)"
   ]
  },
  {
   "cell_type": "code",
   "execution_count": 43,
   "metadata": {},
   "outputs": [
    {
     "name": "stdout",
     "output_type": "stream",
     "text": [
      "             user_score  total_sales\n",
      "user_score     1.000000    -0.070384\n",
      "total_sales   -0.070384     1.000000\n"
     ]
    }
   ],
   "source": [
    "xone_coefficient = xone_correlation.corr(method='pearson')\n",
    "\n",
    "print(xone_coefficient)"
   ]
  },
  {
   "cell_type": "code",
   "execution_count": 44,
   "metadata": {},
   "outputs": [],
   "source": [
    "# now we'll look at PC\n",
    "\n",
    "pc_review_sales = df.query(\"platform == 'PC'\")\n"
   ]
  },
  {
   "cell_type": "code",
   "execution_count": 45,
   "metadata": {},
   "outputs": [
    {
     "data": {
      "image/png": "[encoded data removed]",
      "text/plain": [
       "<Figure size 432x288 with 1 Axes>"
      ]
     },
     "metadata": {},
     "output_type": "display_data"
    }
   ],
   "source": [
    "sns.scatterplot(\n",
    "    data=pc_review_sales,\n",
    "    x=\"user_score\",\n",
    "    y=\"total_sales\"\n",
    ")\n",
    "\n",
    "plt.title('PC Titles User Score vs Total Sales')\n",
    "plt.ylabel('Total Sales (millions, USD)')\n",
    "plt.show()"
   ]
  },
  {
   "cell_type": "code",
   "execution_count": 46,
   "metadata": {},
   "outputs": [],
   "source": [
    "f = {'user_score': pc_review_sales['user_score'], 'total_sales': pc_review_sales['total_sales']}\n",
    "pc_correlation = pd.DataFrame(data=f)"
   ]
  },
  {
   "cell_type": "code",
   "execution_count": 47,
   "metadata": {},
   "outputs": [
    {
     "name": "stdout",
     "output_type": "stream",
     "text": [
      "             user_score  total_sales\n",
      "user_score     1.000000    -0.071597\n",
      "total_sales   -0.071597     1.000000\n"
     ]
    }
   ],
   "source": [
    "pc_coefficient = pc_correlation.corr(method='pearson')\n",
    "\n",
    "print(pc_coefficient)"
   ]
  },
  {
   "cell_type": "markdown",
   "metadata": {},
   "source": [
    "**Observations**\n",
    "\n",
    "We are seeing roughly the same data as the PS4 titles. A -0.07 correlation coefficient, which is very close to 0, meaning there really is not any correlation between user reviews and total sales of a video game title. \n",
    "\n",
    "Interesting observation! \n",
    "\n",
    "It's not part of the project prompt, but I am wondering if critic scores have any correlation on total sales, so let's check that out too!"
   ]
  },
  {
   "cell_type": "code",
   "execution_count": 48,
   "metadata": {},
   "outputs": [
    {
     "data": {
      "image/png": "[encoded data removed]",
      "text/plain": [
       "<Figure size 432x288 with 1 Axes>"
      ]
     },
     "metadata": {},
     "output_type": "display_data"
    },
    {
     "data": {
      "image/png": "[encoded data removed]",
      "text/plain": [
       "<Figure size 432x288 with 1 Axes>"
      ]
     },
     "metadata": {},
     "output_type": "display_data"
    },
    {
     "data": {
      "image/png": "[encoded data removed]",
      "text/plain": [
       "<Figure size 432x288 with 1 Axes>"
      ]
     },
     "metadata": {},
     "output_type": "display_data"
    }
   ],
   "source": [
    "# we can use our existing dataframes we already created, we just need new masks to grab the critic score instead of the user score\n",
    "\n",
    "sns.scatterplot(\n",
    "    data=ps4_review_sales,\n",
    "    x=\"critic_score\",\n",
    "    y=\"total_sales\"\n",
    ")\n",
    "\n",
    "plt.title('PS4 Titles User Score vs Total Sales')\n",
    "plt.ylabel('Total Sales (millions, USD)')\n",
    "plt.show()\n",
    "\n",
    "\n",
    "sns.scatterplot(\n",
    "    data=xone_review_sales,\n",
    "    x=\"critic_score\",\n",
    "    y=\"total_sales\"\n",
    ")\n",
    "\n",
    "plt.title('XOne Titles User Score vs Total Sales')\n",
    "plt.ylabel('Total Sales (millions, USD)')\n",
    "plt.show()\n",
    "\n",
    "\n",
    "sns.scatterplot(\n",
    "    data=pc_review_sales,\n",
    "    x=\"critic_score\",\n",
    "    y=\"total_sales\"\n",
    ")\n",
    "\n",
    "plt.title('PC Titles User Score vs Total Sales')\n",
    "plt.ylabel('Total Sales (millions, USD)')\n",
    "plt.show()"
   ]
  },
  {
   "cell_type": "code",
   "execution_count": 49,
   "metadata": {},
   "outputs": [],
   "source": [
    "d2 = {'critic_score': ps4_review_sales['critic_score'], 'total_sales': ps4_review_sales['total_sales']}\n",
    "ps4_correlation_critic = pd.DataFrame(data=d2)\n",
    "\n",
    "e2 = {'critic_score': xone_review_sales['critic_score'], 'total_sales': xone_review_sales['total_sales']}\n",
    "xone_correlation_critic = pd.DataFrame(data=e2)\n",
    "\n",
    "f2 = {'critic_score': pc_review_sales['critic_score'], 'total_sales': pc_review_sales['total_sales']}\n",
    "pc_correlation_critic = pd.DataFrame(data=f2)"
   ]
  },
  {
   "cell_type": "code",
   "execution_count": 50,
   "metadata": {},
   "outputs": [
    {
     "name": "stdout",
     "output_type": "stream",
     "text": [
      "PS4 correlation\n",
      "              critic_score  total_sales\n",
      "critic_score      1.000000     0.402661\n",
      "total_sales       0.402661     1.000000\n",
      "\n",
      "XOne correlation\n",
      "              critic_score  total_sales\n",
      "critic_score      1.000000     0.428677\n",
      "total_sales       0.428677     1.000000\n",
      "\n",
      "PC correlation\n",
      "              critic_score  total_sales\n",
      "critic_score      1.000000     0.174634\n",
      "total_sales       0.174634     1.000000\n"
     ]
    }
   ],
   "source": [
    "ps4_coefficient_critic = ps4_correlation_critic.corr(method='pearson')\n",
    "\n",
    "print('PS4 correlation')\n",
    "print(ps4_coefficient_critic)\n",
    "print()\n",
    "\n",
    "xone_coefficient_critic = xone_correlation_critic.corr(method='pearson')\n",
    "\n",
    "print('XOne correlation')\n",
    "print(xone_coefficient_critic)\n",
    "print()\n",
    "\n",
    "pc_coefficient_critic = pc_correlation_critic.corr(method='pearson')\n",
    "\n",
    "print('PC correlation')\n",
    "print(pc_coefficient_critic)\n"
   ]
  },
  {
   "cell_type": "markdown",
   "metadata": {},
   "source": [
    "**Observation**\n",
    "\n",
    "Interesting! When we do the same analysis using Critic Score instead of User score, we see a somewhat significant positive correlation between the critic reviews and total sales! \n",
    "\n",
    "(While PC's correlation isn't as high, it may be because they have lower overall sales, so perhaps not as many opportunities to see similar data as the other two platforms.)\n",
    "\n",
    "It seems that consumers are more influenced by the expert's reviews, rather than those of their peers. "
   ]
  },
  {
   "cell_type": "code",
   "execution_count": 51,
   "metadata": {},
   "outputs": [
    {
     "name": "stdout",
     "output_type": "stream",
     "text": [
      "genre\n",
      "Shooter         1.335469\n",
      "Sports          0.680000\n",
      "Platform        0.476053\n",
      "Fighting        0.470333\n",
      "Role-Playing    0.459005\n",
      "Racing          0.398841\n",
      "Misc            0.332301\n",
      "Action          0.322068\n",
      "Simulation      0.298409\n",
      "Puzzle          0.157857\n",
      "Strategy        0.107027\n",
      "Adventure       0.094865\n",
      "Name: total_sales, dtype: float64\n"
     ]
    }
   ],
   "source": [
    "# let's look next at the distribution of games by genre across the dataset we have\n",
    "\n",
    "genre_dist = df.groupby('genre')['total_sales'].mean()\n",
    "\n",
    "\n",
    "print(genre_dist.sort_values(ascending=False))"
   ]
  },
  {
   "cell_type": "code",
   "execution_count": 52,
   "metadata": {},
   "outputs": [
    {
     "data": {
      "text/html": [
       "<div>\n",
       "<style scoped>\n",
       "    .dataframe tbody tr th:only-of-type {\n",
       "        vertical-align: middle;\n",
       "    }\n",
       "\n",
       "    .dataframe tbody tr th {\n",
       "        vertical-align: top;\n",
       "    }\n",
       "\n",
       "    .dataframe thead th {\n",
       "        text-align: right;\n",
       "    }\n",
       "</style>\n",
       "<table border=\"1\" class=\"dataframe\">\n",
       "  <thead>\n",
       "    <tr style=\"text-align: right;\">\n",
       "      <th></th>\n",
       "      <th>total_sales</th>\n",
       "      <th>genre</th>\n",
       "    </tr>\n",
       "  </thead>\n",
       "  <tbody>\n",
       "    <tr>\n",
       "      <th>31</th>\n",
       "      <td>14.63</td>\n",
       "      <td>Shooter</td>\n",
       "    </tr>\n",
       "    <tr>\n",
       "      <th>42</th>\n",
       "      <td>12.62</td>\n",
       "      <td>Action</td>\n",
       "    </tr>\n",
       "    <tr>\n",
       "      <th>47</th>\n",
       "      <td>11.68</td>\n",
       "      <td>Role-Playing</td>\n",
       "    </tr>\n",
       "    <tr>\n",
       "      <th>77</th>\n",
       "      <td>8.58</td>\n",
       "      <td>Sports</td>\n",
       "    </tr>\n",
       "    <tr>\n",
       "      <th>87</th>\n",
       "      <td>7.98</td>\n",
       "      <td>Shooter</td>\n",
       "    </tr>\n",
       "  </tbody>\n",
       "</table>\n",
       "</div>"
      ],
      "text/plain": [
       "    total_sales         genre\n",
       "31        14.63       Shooter\n",
       "42        12.62        Action\n",
       "47        11.68  Role-Playing\n",
       "77         8.58        Sports\n",
       "87         7.98       Shooter"
      ]
     },
     "execution_count": 52,
     "metadata": {},
     "output_type": "execute_result"
    }
   ],
   "source": [
    "# taking total_sales and genre from df to make a new dataframe in order to plot the distribution of sales per genre\n",
    "genre_data = {'total_sales': df['total_sales'], 'genre': df['genre']}\n",
    "\n",
    "profitable_genres = pd.DataFrame(data=genre_data)\n",
    "\n",
    "profitable_genres.head()"
   ]
  },
  {
   "cell_type": "code",
   "execution_count": 53,
   "metadata": {},
   "outputs": [
    {
     "data": {
      "image/png": "[encoded data removed]",
      "text/plain": [
       "<Figure size 720x360 with 1 Axes>"
      ]
     },
     "metadata": {},
     "output_type": "display_data"
    }
   ],
   "source": [
    "# let's visualize the distribution of genre mean sales\n",
    "\n",
    "sns.catplot(\n",
    "    data=profitable_genres,\n",
    "    kind='box',\n",
    "    x='total_sales',\n",
    "    y='genre',\n",
    "    height=5,\n",
    "    aspect=2\n",
    "    )\n",
    "\n",
    "\n",
    "plt.xscale('log')\n",
    "plt.xlabel('Total Sales (millions, USD)')\n",
    "plt.ylabel('Genre')\n",
    "plt.title('Total Sales by Genre')\n",
    "plt.show()"
   ]
  },
  {
   "cell_type": "markdown",
   "metadata": {},
   "source": [
    "**Observations**\n",
    "\n",
    "Looking at our visualization for total sales by genre, the following conclusions can be made:\n",
    "\n",
    "* Shooters are likely the most profitable games. They have the highest mean total sales, far greater than any of the other genres, and less outliers, meaning they have a more expected profit.\n",
    "* Action games have a low average total sales, and a ton of outliers. This leads us to believe that overall, the genre struggles to make sales on average, but beacuse it is such a popular genre, many have been successful and had high sales. \n",
    "* Adventure games have the lowest mean total sales by far, and even its outliers do not make very much money. That is a genre we should avoid if we are looking for profit. \n",
    "\n",
    "Based on these conclusions, and the rest of the data we can see, we can conclude that the following genres are the most profitable:\n",
    "\n",
    "* Shooter\n",
    "* Sports\n",
    "* Platform"
   ]
  },
  {
   "cell_type": "markdown",
   "metadata": {},
   "source": [
    "# Creating 'User Profiles' for each region (NA, EU, JP)"
   ]
  },
  {
   "cell_type": "markdown",
   "metadata": {},
   "source": [
    "#### Top 5 platforms per region"
   ]
  },
  {
   "cell_type": "markdown",
   "metadata": {},
   "source": [
    "**NA**"
   ]
  },
  {
   "cell_type": "code",
   "execution_count": 54,
   "metadata": {},
   "outputs": [
    {
     "name": "stdout",
     "output_type": "stream",
     "text": [
      "                                            name platform  year_of_release  \\\n",
      "31                     Call of Duty: Black Ops 3      PS4             2015   \n",
      "42                            Grand Theft Auto V      PS4             2014   \n",
      "47     Pokemon Omega Ruby/Pokemon Alpha Sapphire      3DS             2014   \n",
      "77                                       FIFA 16      PS4             2015   \n",
      "87                  Star Wars Battlefront (2015)      PS4             2015   \n",
      "...                                          ...      ...              ...   \n",
      "16703                           Strawberry Nauts      PSV             2016   \n",
      "16707                           Aiyoku no Eustia      PSV             2014   \n",
      "16710              Samurai Warriors: Sanada Maru      PS3             2016   \n",
      "16712                    Haitaka no Psychedelica      PSV             2016   \n",
      "16714                        Winning Post 8 2016      PSV             2016   \n",
      "\n",
      "              genre  na_sales  eu_sales  jp_sales  other_sales  critic_score  \\\n",
      "31          Shooter      6.03      5.86      0.36         2.38           NaN   \n",
      "42           Action      3.96      6.31      0.38         1.97          97.0   \n",
      "47     Role-Playing      4.35      3.49      3.10         0.74           NaN   \n",
      "77           Sports      1.12      6.12      0.06         1.28          82.0   \n",
      "87          Shooter      2.99      3.49      0.22         1.28           NaN   \n",
      "...             ...       ...       ...       ...          ...           ...   \n",
      "16703     Adventure      0.00      0.00      0.01         0.00           NaN   \n",
      "16707          Misc      0.00      0.00      0.01         0.00           NaN   \n",
      "16710        Action      0.00      0.00      0.01         0.00           NaN   \n",
      "16712     Adventure      0.00      0.00      0.01         0.00           NaN   \n",
      "16714    Simulation      0.00      0.00      0.01         0.00           NaN   \n",
      "\n",
      "       user_score rating  total_sales release_window  \n",
      "31            NaN    NaN        14.63          2015+  \n",
      "42            8.3      M        12.62      2010-2014  \n",
      "47            NaN    NaN        11.68      2010-2014  \n",
      "77            4.3      E         8.58          2015+  \n",
      "87            NaN    NaN         7.98          2015+  \n",
      "...           ...    ...          ...            ...  \n",
      "16703         NaN    NaN         0.01          2015+  \n",
      "16707         NaN    NaN         0.01      2010-2014  \n",
      "16710         NaN    NaN         0.01          2015+  \n",
      "16712         NaN    NaN         0.01          2015+  \n",
      "16714         NaN    NaN         0.01          2015+  \n",
      "\n",
      "[1689 rows x 13 columns]\n"
     ]
    }
   ],
   "source": [
    "print(df)"
   ]
  },
  {
   "cell_type": "code",
   "execution_count": 55,
   "metadata": {},
   "outputs": [
    {
     "name": "stdout",
     "output_type": "stream",
     "text": [
      "platform\n",
      "PS4     98.61\n",
      "XOne    81.27\n",
      "X360    28.30\n",
      "3DS     22.64\n",
      "PS3     22.05\n",
      "Name: na_sales, dtype: float64\n"
     ]
    }
   ],
   "source": [
    "# NA top platforms by sales\n",
    "na_top_platforms = df.groupby('platform')['na_sales'].sum()\n",
    "print(na_top_platforms.sort_values(ascending=False).head())"
   ]
  },
  {
   "cell_type": "code",
   "execution_count": 56,
   "metadata": {},
   "outputs": [
    {
     "name": "stdout",
     "output_type": "stream",
     "text": [
      "platform\n",
      "PS4     130.04\n",
      "XOne     46.25\n",
      "PS3      25.54\n",
      "PC       17.97\n",
      "3DS      16.12\n",
      "Name: eu_sales, dtype: float64\n"
     ]
    }
   ],
   "source": [
    "# EU top platforms by sales\n",
    "eu_top_platforms = df.groupby('platform')['eu_sales'].sum()\n",
    "print(eu_top_platforms.sort_values(ascending=False).head())"
   ]
  },
  {
   "cell_type": "code",
   "execution_count": 57,
   "metadata": {},
   "outputs": [
    {
     "name": "stdout",
     "output_type": "stream",
     "text": [
      "platform\n",
      "3DS     44.24\n",
      "PS4     15.02\n",
      "PSV     14.54\n",
      "PS3     11.22\n",
      "WiiU     7.31\n",
      "Name: jp_sales, dtype: float64\n"
     ]
    }
   ],
   "source": [
    "# JP top platforms by sales\n",
    "jp_top_platforms = df.groupby('platform')['jp_sales'].sum()\n",
    "print(jp_top_platforms.sort_values(ascending=False).head())"
   ]
  },
  {
   "cell_type": "markdown",
   "metadata": {},
   "source": [
    "**Observations**\n",
    "\n",
    "In NA and EU, the current-generation consoles are thriving, with PS4 and XOne dominating the sales in both regions. In EU, the PS4 is vastly more popular than the XOne, where in NA, they are much closer in popularity. \n",
    "\n",
    "JP's sales are much different. It seems hand-held gaming is the most popular, with the 3DS leading sales by a large margin, and the PSV being in the top 3 as well. The XOne is nowhere to be seen, which could make sense considering Sony is a Japanese company. "
   ]
  },
  {
   "cell_type": "markdown",
   "metadata": {},
   "source": [
    "**Top 5 Genres by Region**"
   ]
  },
  {
   "cell_type": "code",
   "execution_count": 58,
   "metadata": {},
   "outputs": [
    {
     "name": "stdout",
     "output_type": "stream",
     "text": [
      "genre\n",
      "Shooter         79.02\n",
      "Action          72.53\n",
      "Sports          46.13\n",
      "Role-Playing    33.47\n",
      "Misc            15.05\n",
      "Name: na_sales, dtype: float64\n"
     ]
    }
   ],
   "source": [
    "# NA top genres by sales\n",
    "na_top_genres = df.groupby('genre')['na_sales'].sum()\n",
    "print(na_top_genres.sort_values(ascending=False).head())"
   ]
  },
  {
   "cell_type": "code",
   "execution_count": 59,
   "metadata": {},
   "outputs": [
    {
     "name": "stdout",
     "output_type": "stream",
     "text": [
      "genre\n",
      "Action          74.68\n",
      "Shooter         65.52\n",
      "Sports          45.73\n",
      "Role-Playing    28.17\n",
      "Racing          14.13\n",
      "Name: eu_sales, dtype: float64\n"
     ]
    }
   ],
   "source": [
    "# EU top genres by sales\n",
    "eu_top_genres = df.groupby('genre')['eu_sales'].sum()\n",
    "print(eu_top_genres.sort_values(ascending=False).head())"
   ]
  },
  {
   "cell_type": "code",
   "execution_count": 60,
   "metadata": {},
   "outputs": [
    {
     "name": "stdout",
     "output_type": "stream",
     "text": [
      "genre\n",
      "Role-Playing    31.16\n",
      "Action          29.58\n",
      "Fighting         6.37\n",
      "Misc             5.61\n",
      "Shooter          4.87\n",
      "Name: jp_sales, dtype: float64\n"
     ]
    }
   ],
   "source": [
    "# JP top genres by sales\n",
    "jp_top_genres = df.groupby('genre')['jp_sales'].sum()\n",
    "print(jp_top_genres.sort_values(ascending=False).head())"
   ]
  },
  {
   "cell_type": "markdown",
   "metadata": {},
   "source": [
    "**Observations**\n",
    "\n",
    "NA and EU tend to have similar taste in genres, seeing that the top 4 in each region are the same ones, just in slightly different orders.\n",
    "The only main difference being Misc/Racing for NA/EU on that 5th slot. Perhaps NA consumers play a wider variety of other games more commonly, whereas Racing is more popular in EU because of the prevelence of things like Formula 1.\n",
    "\n",
    "The most popular genre in JP being Role-Playing makes sense, considering there is an entire genre of video games called \"JRPG\", for Japanese Roll Playing Game. "
   ]
  },
  {
   "cell_type": "markdown",
   "metadata": {},
   "source": [
    "**Do ESRB Ratings affect sales in individual regions?**"
   ]
  },
  {
   "cell_type": "code",
   "execution_count": 61,
   "metadata": {},
   "outputs": [
    {
     "data": {
      "image/png": "[encoded data removed]",
      "text/plain": [
       "<Figure size 432x288 with 1 Axes>"
      ]
     },
     "metadata": {},
     "output_type": "display_data"
    },
    {
     "data": {
      "image/png": "[encoded data removed]",
      "text/plain": [
       "<Figure size 432x288 with 1 Axes>"
      ]
     },
     "metadata": {},
     "output_type": "display_data"
    },
    {
     "data": {
      "image/png": "[encoded data removed]",
      "text/plain": [
       "<Figure size 432x288 with 1 Axes>"
      ]
     },
     "metadata": {},
     "output_type": "display_data"
    }
   ],
   "source": [
    "# we will repeat our process from the scatter plots above to view the correlation between ESRB rating and sales per region\n",
    "\n",
    "# na sales\n",
    "sns.scatterplot(\n",
    "    data=df,\n",
    "    x=\"rating\",\n",
    "    y=\"na_sales\"\n",
    ")\n",
    "\n",
    "plt.title('NA Sales vs ESRB Rating')\n",
    "plt.ylabel('Total Sales (millions, USD)')\n",
    "plt.show()\n",
    "\n",
    "\n",
    "# eu sales\n",
    "sns.scatterplot(\n",
    "    data=df,\n",
    "    x=\"rating\",\n",
    "    y=\"eu_sales\"\n",
    ")\n",
    "\n",
    "plt.title('EU Sales vs ESRB Rating')\n",
    "plt.ylabel('Total Sales (millions, USD)')\n",
    "plt.show()\n",
    "\n",
    "\n",
    "# jp sales\n",
    "sns.scatterplot(\n",
    "    data=df,\n",
    "    x=\"rating\",\n",
    "    y=\"jp_sales\"\n",
    ")\n",
    "\n",
    "plt.title('JP Sales vs ESRB Rating')\n",
    "plt.ylabel('Total Sales (millions, USD)')\n",
    "plt.show()"
   ]
  },
  {
   "cell_type": "markdown",
   "metadata": {},
   "source": [
    "**Observations**\n",
    "\n",
    "In EU and NA, it seems the M rated games have the highest sales. This could be perhaps that those who are playing Mature rated games, are the adults who have the disposable income to continue purchasing these games. \n",
    "\n",
    "In JP, it seems M rated games have the lowest sales. This could be a culture thing, where those types of games aren't as popular as games for a younger audience, such as the E or T games. "
   ]
  },
  {
   "cell_type": "markdown",
   "metadata": {},
   "source": [
    "# Testing Hypotheses"
   ]
  },
  {
   "cell_type": "markdown",
   "metadata": {},
   "source": [
    "**Hypothesis 1: Average user ratings of the Xbox One and PC platforms are the same.**\n",
    "\n",
    "*Null hypothesis*: There is no significant statistical diference between the user ratings of XOne and PC platforms\\\n",
    "*Alternative hypothesis*: There is a difference between the average user ratings of Xbox One and PC Platforms"
   ]
  },
  {
   "cell_type": "code",
   "execution_count": 62,
   "metadata": {},
   "outputs": [],
   "source": [
    "# creating our datasets for the first test\n",
    "\n",
    "xone_filter = df.query('platform == \"XOne\"')['user_score']\n",
    "pc_filter = df.query('platform == \"PC\"')['user_score']\n",
    "\n",
    "# removing nan values so we can run ttest_ind\n",
    "xone_filter = xone_filter.dropna()\n",
    "pc_filter = pc_filter.dropna()\n"
   ]
  },
  {
   "cell_type": "code",
   "execution_count": 63,
   "metadata": {},
   "outputs": [
    {
     "name": "stdout",
     "output_type": "stream",
     "text": [
      "p-value: 0.11601398086668827\n",
      "We cannot reject the null hypothesis\n"
     ]
    }
   ],
   "source": [
    "# running our test\n",
    "\n",
    "alpha = 0.05 \n",
    "\n",
    "results = st.ttest_ind(xone_filter, pc_filter, equal_var=False)\n",
    "\n",
    "print('p-value:', results.pvalue)\n",
    "\n",
    "if results.pvalue < alpha:\n",
    "    print('We reject the null hypothesis')\n",
    "else:\n",
    "    print('We cannot reject the null hypothesis')"
   ]
  },
  {
   "cell_type": "markdown",
   "metadata": {},
   "source": [
    "**Observations** \n",
    "\n",
    "I chose an alpha threshold of 0.05, because it is the standard accepted significance level for hypothesis testing.\n",
    "I used `ttest.ind()` because we are testing two independent samples.\n",
    "\n",
    "With a pvalue of 0.116, we do not have sufficient evidence to reject the null hypothesis that there are no significant statistical differnces between the user ratings of XOne and PC platforms. \n",
    "This doesn't mean that the inverse is true, just that we cannot reject the null hypothesis. We can take a little bit of a further look though, to see where the average user ratings lie."
   ]
  },
  {
   "cell_type": "code",
   "execution_count": 64,
   "metadata": {},
   "outputs": [
    {
     "name": "stdout",
     "output_type": "stream",
     "text": [
      "XOne user review mean: 6.594545454545456\n",
      "PC user review mean: 6.298360655737705\n",
      "\n",
      "XOne user review variance: 1.8795460055096425\n",
      "PC user review variance: 2.8773743617307175\n",
      "\n",
      "XOne user review standard deviation: 1.3709653553280048\n",
      "PC user review standard deviation: 1.6962825123577492\n"
     ]
    }
   ],
   "source": [
    "# looking at the mean, variance and std deviation of the two datasets of XOne and PC user reviews\n",
    "\n",
    "xone_mean = xone_filter.mean()\n",
    "print('XOne user review mean:', xone_mean)\n",
    "\n",
    "pc_mean = pc_filter.mean()\n",
    "print('PC user review mean:', pc_mean)\n",
    "print()\n",
    "\n",
    "xone_var = np.var(xone_filter)\n",
    "print('XOne user review variance:', xone_var)\n",
    "\n",
    "pc_var = np.var(pc_filter)\n",
    "print('PC user review variance:', pc_var)\n",
    "print()\n",
    "\n",
    "xone_std = np.std(xone_filter)\n",
    "print('XOne user review standard deviation:', xone_std)\n",
    "\n",
    "pc_std = np.std(pc_filter)\n",
    "print('PC user review standard deviation:', pc_std)\n"
   ]
  },
  {
   "cell_type": "markdown",
   "metadata": {},
   "source": [
    "**Observations**\n",
    "\n",
    "XOne titles have a higher average user score than PC titles. XOne has lower variance, and lower standard deviation, meaning the reviews are more concentrated around the mean, compared to PC titles. "
   ]
  },
  {
   "cell_type": "markdown",
   "metadata": {},
   "source": [
    "**Hypothesis 2: Average user ratings for the Action and Sports genres are different.**\n",
    "\n",
    "*Null hypothesis*: The average user ratings for the Action and Sports genres are not different\\\n",
    "*Alternative hypothesis*: The average user ratings for the Action and Sports genres are different"
   ]
  },
  {
   "cell_type": "code",
   "execution_count": 65,
   "metadata": {},
   "outputs": [],
   "source": [
    "action_filter = df.query('genre == \"Action\"')['user_score']\n",
    "sports_filter = df.query('genre == \"Sports\"')['user_score']\n",
    "\n",
    "# removing nan values so we can run ttest_ind\n",
    "action_filter = action_filter.dropna()\n",
    "sports_filter = sports_filter.dropna()"
   ]
  },
  {
   "cell_type": "code",
   "execution_count": 66,
   "metadata": {},
   "outputs": [
    {
     "name": "stdout",
     "output_type": "stream",
     "text": [
      "p-value: 1.1825550382644557e-14\n",
      "We reject the null hypothesis\n"
     ]
    }
   ],
   "source": [
    "# running our test\n",
    "\n",
    "alpha2 = 0.05 \n",
    "\n",
    "results2 = st.ttest_ind(action_filter, sports_filter, equal_var=False)\n",
    "\n",
    "print('p-value:', results2.pvalue)\n",
    "\n",
    "if results2.pvalue < alpha2:\n",
    "    print('We reject the null hypothesis')\n",
    "else:\n",
    "    print('We cannot reject the null hypothesis')"
   ]
  },
  {
   "cell_type": "markdown",
   "metadata": {},
   "source": [
    "**Observations**\n",
    "\n",
    "Again, I chose an alpha value of 0.05 because it is the standard accepted significance level, and I used `ttest_ind()` because we are comparing two independent samples. \n",
    "\n",
    "Our pvalue was 1.18e-14, which allows us to reject the null hypothesis. This tells us that there is in fact a difference in user reviews between the two genres. \n",
    "\n",
    "Let's take a closer look at what those differences may be. "
   ]
  },
  {
   "cell_type": "code",
   "execution_count": 67,
   "metadata": {},
   "outputs": [
    {
     "name": "stdout",
     "output_type": "stream",
     "text": [
      "Action titles user review mean: 6.760606060606061\n",
      "Sports titles user review mean: 5.2251968503937\n",
      "\n",
      "Action titles user review variance: 1.89208448117539\n",
      "Sports titles user review variance: 3.4198375596751185\n",
      "\n",
      "Action titles user review standard deviation: 1.3755306180435933\n",
      "Sports titles user review standard deviation: 1.8492802815352567\n"
     ]
    }
   ],
   "source": [
    "# looking at the mean, variance and std deviation of the two datasets of XOne and PC user reviews\n",
    "\n",
    "action_mean = action_filter.mean()\n",
    "print('Action titles user review mean:', action_mean)\n",
    "\n",
    "sports_mean = sports_filter.mean()\n",
    "print('Sports titles user review mean:', sports_mean)\n",
    "print()\n",
    "\n",
    "action_var = np.var(action_filter)\n",
    "print('Action titles user review variance:', action_var)\n",
    "\n",
    "sports_var = np.var(sports_filter)\n",
    "print('Sports titles user review variance:', sports_var)\n",
    "print()\n",
    "\n",
    "action_std = np.std(action_filter)\n",
    "print('Action titles user review standard deviation:', action_std)\n",
    "\n",
    "sports_std = np.std(sports_filter)\n",
    "print('Sports titles user review standard deviation:', sports_std)\n"
   ]
  },
  {
   "cell_type": "markdown",
   "metadata": {},
   "source": [
    "**Observations**\n",
    "\n",
    "There is a clear and conside winner between these two genres for average user review, and it is Action titles. \n",
    "\n",
    "Sports games have a higher variance and standard deviation, so perhaps we would see some sports games with high reviews (and also some with very low scores). \n",
    "\n",
    "But between our hypothesis testing and looking at the descriptive statistics, we can confidently say that Action titles are better received by consumers than Sports titles. "
   ]
  },
  {
   "cell_type": "markdown",
   "metadata": {},
   "source": [
    "# Conclusion"
   ]
  },
  {
   "cell_type": "markdown",
   "metadata": {},
   "source": [
    "**Intro**\n",
    "\n",
    "We set out to analyze data about video game sales across multiple platforms and regions, from 1980-2016, with the goal of trying to build a model for 2017. \n",
    "\n",
    "In order to do this, we had to sacrifice a lot of the data from the past, where those games and platforms are no longer relevent when looking towards the future. We began working with a dataset that focused on video games released from 2014 onward.\n",
    "\n",
    "**Data Analysis**\n",
    "\n",
    "We did extensive data analysis of total sales across multiple years, platforms and genres. We decided that the 3 most profitable platforms moving forward would be:\n",
    "\n",
    "* PS4\n",
    "* XOne\n",
    "* PC\n",
    "\n",
    "These represented a majority of total sales, and still likely had multiple years of being on top, compared to other platforms which were already on their way out (like the DS or Wii/Wii U).\n",
    "\n",
    "An interesting observation that we discovered, was that user review scores had no effect on the sales numbers of games. Inversely, there was a pretty significant positive correlation between critic review scores and total sales, with the higher critic scores receiving higher total sales. It seems that consumers are much more likely to take the word of experts over the word of their peers. \n",
    "\n",
    "The most profitable Genres we saw were:\n",
    "\n",
    "* Shooter\n",
    "* Sports\n",
    "* Platform\n",
    "\n",
    "**Region Profiles**\n",
    "\n",
    "We took a deeper dive into the various data according to each region. For EU and NA, the most popular platforms were PS4 and XOne, which stands up to the observations we had earlier. The most popular platform in JP was the 3DS, followed by the PS4. The JP region is serious about its handheld gaming. \n",
    "\n",
    "Looking at the popular genres from all regions, the same 4 genres as above were well represented as the top 4 in both NA and EU. The most popular in JP was Role-Playing, but Action and Shooters were also in representation in the top 5. \n",
    "\n",
    "When we looked at how the ESRB ratings affected sales, we found the following:\n",
    "\n",
    "* In NA and EU, M rated games sold best\n",
    "* In JP, E and T games sold best\n",
    "\n",
    "**2017 Forecasting**\n",
    "\n",
    "If we wanted to get an educated guess of what kind of data we'd see going into 2017, I believe we'd be seeing similar trends to the data from 2014-2016. The most profitable platforms will continue to be PS4 and XOne, because they are dominating and there is no new competition or generations on the horizon yet. (Even though this is data from the past, if this were 2016, we would likely not have any news about next-generation consoles such as the PS5 or Xbox Series X coming out.)\n",
    "\n",
    "If we are looking to predict which genres will be most profitable, we can just look to the most profitable in our dataset, Shooter, Sports and Platform. It's unlikely to change in just 1 year, so we can assume that they will remain the top options. \n",
    "\n",
    "By sticking to a limited number of platforms and genres, our data supports that these options will continue to sell well in all 3 regions studied."
   ]
  }
 ],
 "metadata": {
  "kernelspec": {
   "display_name": "Python 3 (ipykernel)",
   "language": "python",
   "name": "python3"
  },
  "language_info": {
   "codemirror_mode": {
    "name": "ipython",
    "version": 3
   },
   "file_extension": ".py",
   "mimetype": "text/x-python",
   "name": "python",
   "nbconvert_exporter": "python",
   "pygments_lexer": "ipython3",
   "version": "3.11.5"
  },
  "toc": {
   "base_numbering": 1,
   "nav_menu": {},
   "number_sections": true,
   "sideBar": true,
   "skip_h1_title": true,
   "title_cell": "Table of Contents",
   "title_sidebar": "Contents",
   "toc_cell": false,
   "toc_position": {},
   "toc_section_display": true,
   "toc_window_display": true
  }
 },
 "nbformat": 4,
 "nbformat_minor": 2
}
